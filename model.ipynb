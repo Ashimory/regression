{
 "cells": [
  {
   "cell_type": "code",
   "execution_count": null,
   "metadata": {},
   "outputs": [],
   "source": [
    "import pandas as pd\n",
    "import statsmodels.api as sm"
   ]
  },
  {
   "cell_type": "code",
   "execution_count": null,
   "metadata": {},
   "outputs": [],
   "source": [
    "def linear_regression(X_train: pd.DataFrame, y_train: pd.DataFrame, X_test: pd.DataFrame, y_test: pd.DataFrame, ft_in_use):\n",
    "    X_train = X_train[ft_in_use]\n",
    "    X_test = X_test[ft_in_use]\n",
    "\n",
    "    model = sm.OLS(y_train, sm.add_constant(X_train))\n",
    "    results = model.fit()\n",
    "    print(results.summary())\n",
    "\n",
    "    y_pred = model.predict(sm.add_constant(X_test))\n",
    "    print(f'MSE: {sum((y_test - y_pred) ** 2) / len(y_test)}')"
   ]
  },
  {
   "cell_type": "code",
   "execution_count": null,
   "metadata": {},
   "outputs": [],
   "source": [
    "# process data here\n",
    "X_train = pd.read_csv('train.csv')\n",
    "X_test = pd.read_csv('test.csv')\n",
    "\n",
    "ft_predict = ['new_deaths_per_million', 'new_cases_per_million']\n",
    "ft_ignore = [] # add ignore column names here\n",
    "\n",
    "features = set(X_train.columns()).difference(ft_predict + ft_ignore)\n",
    "\n",
    "y_train = X_train[ft_predict]\n",
    "X_train = X_train[features]\n",
    "\n",
    "y_test = X_test[ft_predict]\n",
    "X_test = X_test[features]"
   ]
  },
  {
   "cell_type": "code",
   "execution_count": null,
   "metadata": {},
   "outputs": [],
   "source": [
    "def new_deaths_per_million(X_train: pd.DataFrame, y_train: pd.DataFrame, X_test: pd.DataFrame, y_test: pd.DataFrame, ft_in_use):\n",
    "    linear_regression(X_train, y_train['new_deaths_per_million'], X_test, y_test['new_deaths_per_million'], ft_in_use)"
   ]
  },
  {
   "cell_type": "code",
   "execution_count": null,
   "metadata": {},
   "outputs": [],
   "source": [
    "def new_cases_per_million(X_train: pd.DataFrame, y_train: pd.DataFrame, X_test: pd.DataFrame, y_test: pd.DataFrame, ft_in_use):\n",
    "    linear_regression(X_train, y_train['new_cases_per_million'], X_test, y_test['new_cases_per_million'], ft_in_use)"
   ]
  },
  {
   "cell_type": "code",
   "execution_count": null,
   "metadata": {},
   "outputs": [],
   "source": [
    "# ordinary linear regression\n",
    "\n",
    "new_deaths_per_million(X_train, y_train, X_test, y_test, features)\n",
    "new_cases_per_million(X_train, y_train, X_test, y_test, features)"
   ]
  },
  {
   "cell_type": "code",
   "execution_count": null,
   "metadata": {},
   "outputs": [],
   "source": [
    "# reorder columns according to p-values\n",
    "# save to `features` variable\n",
    "\n",
    "features = []"
   ]
  },
  {
   "cell_type": "code",
   "execution_count": null,
   "metadata": {},
   "outputs": [],
   "source": [
    "# stepwise forward regression\n",
    "\n",
    "ft_in_use = []\n",
    "for col in features:\n",
    "    ft_in_use.append(col)\n",
    "\n",
    "    print(f'Added ft:  {col}')\n",
    "    print(f'Ft in use: {ft_in_use}')\n",
    "\n",
    "    new_deaths_per_million(X_train, y_train, X_test, y_test, ft_in_use)\n",
    "    new_cases_per_million(X_train, y_train, X_test, y_test, ft_in_use)\n",
    "\n",
    "    print('*' * 20)"
   ]
  },
  {
   "cell_type": "code",
   "execution_count": null,
   "metadata": {},
   "outputs": [],
   "source": [
    "# stepwise backward regression\n",
    "\n",
    "ft_in_use = features\n",
    "for col in features:\n",
    "    ft_in_use.remove(col)\n",
    "\n",
    "    print(f'Removed ft: {col}')\n",
    "    print(f'Ft in use:  {ft_in_use}')\n",
    "    \n",
    "    new_deaths_per_million(X_train, y_train, X_test, y_test, ft_in_use)\n",
    "    new_cases_per_million(X_train, y_train, X_test, y_test, ft_in_use)\n",
    "\n",
    "    print('*' * 20)"
   ]
  }
 ],
 "metadata": {
  "interpreter": {
   "hash": "26de051ba29f2982a8de78e945f0abaf191376122a1563185a90213a26c5da77"
  },
  "kernelspec": {
   "display_name": "Python 3.10.0 64-bit",
   "language": "python",
   "name": "python3"
  },
  "language_info": {
   "codemirror_mode": {
    "name": "ipython",
    "version": 3
   },
   "file_extension": ".py",
   "mimetype": "text/x-python",
   "name": "python",
   "nbconvert_exporter": "python",
   "pygments_lexer": "ipython3",
   "version": "3.10.0"
  },
  "orig_nbformat": 4
 },
 "nbformat": 4,
 "nbformat_minor": 2
}
