{
 "cells": [
  {
   "cell_type": "code",
   "execution_count": 88,
   "metadata": {},
   "outputs": [],
   "source": [
    "import pandas as pd"
   ]
  },
  {
   "cell_type": "code",
   "execution_count": 89,
   "metadata": {},
   "outputs": [],
   "source": [
    "df = pd.read_csv(r'./owid-2022-clean.csv')"
   ]
  },
  {
   "cell_type": "code",
   "execution_count": 90,
   "metadata": {},
   "outputs": [
    {
     "name": "stdout",
     "output_type": "stream",
     "text": [
      "(31,)\n",
      "(25,)\n"
     ]
    }
   ],
   "source": [
    "# Drop irrelevant fields\n",
    "print(df.columns.shape)\n",
    "df.drop([\"location\", \"date\", \"total_deaths_per_million\", \"total_cases_per_million\", \"population\", \"tests_units\"], axis=1, inplace=True)\n",
    "\n",
    "print(df.columns.shape)"
   ]
  },
  {
   "cell_type": "code",
   "execution_count": 91,
   "metadata": {},
   "outputs": [],
   "source": [
    "# applied_cols = list(df.columns)\n",
    "# df_group_iso = df.groupby([\"iso_code\"])\n",
    "# for col_name, col_data in df.iteritems():\n",
    "#     if col_name == \"iso_code\" or col_name==\"continent\":\n",
    "#         continue\n",
    "#     df[col_name] = df_group_iso[col_name].apply(lambda x: x.fillna(x.mean()))\n",
    "\n",
    "\n",
    "# df_group_cont = df.groupby([\"continent\"])\n",
    "# for col_name, col_data in df.iteritems():\n",
    "#     if col_name == \"iso_code\" or col_name==\"continent\":\n",
    "#         continue\n",
    "#     df[col_name] = df_group_cont[col_name].apply(lambda x: x.fillna(x.mean()))\n",
    "#     print(col_data, (col_data == 0).all())"
   ]
  },
  {
   "cell_type": "code",
   "execution_count": 93,
   "metadata": {},
   "outputs": [
    {
     "ename": "TypeError",
     "evalue": "replacezeros() missing 1 required positional argument: 'col'",
     "output_type": "error",
     "traceback": [
      "\u001b[1;31m---------------------------------------------------------------------------\u001b[0m",
      "\u001b[1;31mTypeError\u001b[0m                                 Traceback (most recent call last)",
      "\u001b[1;32mc:\\Users\\Ashimory\\Documents\\GitHub\\regression\\regression.ipynb Cell 5'\u001b[0m in \u001b[0;36m<cell line: 11>\u001b[1;34m()\u001b[0m\n\u001b[0;32m     <a href='vscode-notebook-cell:/c%3A/Users/Ashimory/Documents/GitHub/regression/regression.ipynb#ch0000008?line=15'>16</a>\u001b[0m \u001b[39m# replace nan with continent avg\u001b[39;00m\n\u001b[0;32m     <a href='vscode-notebook-cell:/c%3A/Users/Ashimory/Documents/GitHub/regression/regression.ipynb#ch0000008?line=16'>17</a>\u001b[0m df[col_name] \u001b[39m=\u001b[39m df_group_cont[col_name]\u001b[39m.\u001b[39mapply(\u001b[39mlambda\u001b[39;00m x: x\u001b[39m.\u001b[39mfillna(x\u001b[39m.\u001b[39mmean()))\n\u001b[1;32m---> <a href='vscode-notebook-cell:/c%3A/Users/Ashimory/Documents/GitHub/regression/regression.ipynb#ch0000008?line=17'>18</a>\u001b[0m df_group_cont[col_name]\u001b[39m.\u001b[39mapply(replacezeros())\n",
      "\u001b[1;31mTypeError\u001b[0m: replacezeros() missing 1 required positional argument: 'col'"
     ]
    }
   ],
   "source": [
    "applied_cols = list(df.columns)\n",
    "df_group_iso = df.groupby([\"iso_code\"])\n",
    "df_group_cont = df.groupby([\"continent\"])\n",
    "\n",
    "def replacezeros(col):\n",
    "    if (col == 0).all():\n",
    "        print(col)\n",
    "    return col\n",
    "\n",
    "\n",
    "for col_name, col_data in df.iteritems():\n",
    "    if col_name == \"iso_code\" or col_name==\"continent\":\n",
    "        continue\n",
    "    # replace nan with country avg\n",
    "    df[col_name] = df_group_iso[col_name].apply(lambda x: x.fillna(x.mean()))\n",
    "    # replace nan with continent avg\n",
    "    df[col_name] = df_group_cont[col_name].apply(lambda x: x.fillna(x.mean()))\n",
    "    df_group_cont[col_name].apply(replacezeros)\n",
    "\n",
    "\n",
    "\n",
    "\n",
    "# for col_name, col_data in df_group_iso:    \n",
    "    # for col in col_data:\n",
    "    #     if (col_data[col] == 0).all():\n",
    "    #         print(col, col_data[col], col_name)\n"
   ]
  },
  {
   "cell_type": "code",
   "execution_count": null,
   "metadata": {},
   "outputs": [],
   "source": [
    "indicator_cols = pd.get_dummies(df[[\"iso_code\", \"continent\"]])\n",
    "df = pd.concat([df, indicator_cols], axis=1)\n",
    "df.drop([\"iso_code\", \"continent\"], axis=1, inplace=True)"
   ]
  },
  {
   "cell_type": "code",
   "execution_count": null,
   "metadata": {},
   "outputs": [],
   "source": [
    "df.to_csv(\"./test.csv\")"
   ]
  }
 ],
 "metadata": {
  "interpreter": {
   "hash": "a9856cc17a2c2dbfec4f3261ef1ef6a389c9e7abd9d72b5b069cb1b08caf3806"
  },
  "kernelspec": {
   "display_name": "Python 3.8.12 ('base')",
   "language": "python",
   "name": "python3"
  },
  "language_info": {
   "codemirror_mode": {
    "name": "ipython",
    "version": 3
   },
   "file_extension": ".py",
   "mimetype": "text/x-python",
   "name": "python",
   "nbconvert_exporter": "python",
   "pygments_lexer": "ipython3",
   "version": "3.8.12"
  },
  "orig_nbformat": 4
 },
 "nbformat": 4,
 "nbformat_minor": 2
}
