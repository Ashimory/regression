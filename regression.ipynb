{
 "cells": [
  {
   "cell_type": "code",
   "execution_count": 86,
   "metadata": {},
   "outputs": [],
   "source": [
    "import pandas as pd"
   ]
  },
  {
   "cell_type": "code",
   "execution_count": 87,
   "metadata": {},
   "outputs": [],
   "source": [
    "df = pd.read_csv(r'./owid-2022-clean.csv')"
   ]
  },
  {
   "cell_type": "code",
   "execution_count": 88,
   "metadata": {},
   "outputs": [
    {
     "name": "stdout",
     "output_type": "stream",
     "text": [
      "(31,)\n",
      "(25,)\n"
     ]
    }
   ],
   "source": [
    "# Drop irrelevant fields\n",
    "print(df.columns.shape)\n",
    "df.drop([\"location\", \"date\", \"total_deaths_per_million\", \"total_cases_per_million\", \"population\", \"tests_units\"], axis=1, inplace=True)\n",
    "\n",
    "print(df.columns.shape)"
   ]
  },
  {
   "cell_type": "code",
   "execution_count": 89,
   "metadata": {},
   "outputs": [],
   "source": [
    "applied_cols = list(df.columns)\n",
    "df_group_iso = df.groupby([\"iso_code\"])\n",
    "for col_name, col_data in df.iteritems():\n",
    "    if col_name == \"iso_code\" or col_name==\"continent\":\n",
    "        continue\n",
    "    df[col_name] = df_group_iso[col_name].apply(lambda x: x.fillna(x.mean()))\n",
    "\n",
    "\n",
    "df_group_cont = df.groupby([\"continent\"])\n",
    "for col_name, col_data in df.iteritems():\n",
    "    if col_name == \"iso_code\" or col_name==\"continent\":\n",
    "        continue\n",
    "    df[col_name] = df_group_cont[col_name].apply(lambda x: x.fillna(x.mean()))"
   ]
  },
  {
   "cell_type": "code",
   "execution_count": 90,
   "metadata": {},
   "outputs": [],
   "source": [
    "df.to_csv(\"./test.csv\")"
   ]
  },
  {
   "cell_type": "code",
   "execution_count": 32,
   "metadata": {},
   "outputs": [],
   "source": [
    "indicator_cols = pd.get_dummies(df[[\"iso_code\", \"continent\"]])\n",
    "df = pd.concat([df, indicator_cols], axis=1)\n",
    "df.drop([\"iso_code\", \"continent\"], axis=1, inplace=True)"
   ]
  }
 ],
 "metadata": {
  "interpreter": {
   "hash": "08ed8f9a424e71ecb4dc69db0334cf3f416d9ce53adb05348e5735c903720564"
  },
  "kernelspec": {
   "display_name": "Python 3.9.7 ('base')",
   "language": "python",
   "name": "python3"
  },
  "language_info": {
   "codemirror_mode": {
    "name": "ipython",
    "version": 3
   },
   "file_extension": ".py",
   "mimetype": "text/x-python",
   "name": "python",
   "nbconvert_exporter": "python",
   "pygments_lexer": "ipython3",
   "version": "3.9.7"
  },
  "orig_nbformat": 4
 },
 "nbformat": 4,
 "nbformat_minor": 2
}
