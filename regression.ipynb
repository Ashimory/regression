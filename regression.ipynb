{
 "cells": [
  {
   "cell_type": "code",
   "execution_count": 263,
   "metadata": {},
   "outputs": [],
   "source": [
    "import pandas as pd"
   ]
  },
  {
   "cell_type": "code",
   "execution_count": 264,
   "metadata": {},
   "outputs": [],
   "source": [
    "df = pd.read_csv(r'./owid-2022-clean.csv')"
   ]
  },
  {
   "cell_type": "code",
   "execution_count": 265,
   "metadata": {},
   "outputs": [
    {
     "name": "stdout",
     "output_type": "stream",
     "text": [
      "(31,)\n",
      "(25,)\n"
     ]
    }
   ],
   "source": [
    "# Drop irrelevant fields\n",
    "print(df.columns.shape)\n",
    "df.drop([\"location\", \"date\", \"total_deaths_per_million\", \"total_cases_per_million\", \"population\", \"tests_units\"], axis=1, inplace=True)\n",
    "\n",
    "print(df.columns.shape)"
   ]
  },
  {
   "cell_type": "code",
   "execution_count": 266,
   "metadata": {},
   "outputs": [],
   "source": [
    "# applied_cols = list(df.columns)\n",
    "# df_group_iso = df.groupby([\"iso_code\"])\n",
    "# for col_name, col_data in df.iteritems():\n",
    "#     if col_name == \"iso_code\" or col_name==\"continent\":\n",
    "#         continue\n",
    "#     df[col_name] = df_group_iso[col_name].apply(lambda x: x.fillna(x.mean()))\n",
    "\n",
    "\n",
    "# df_group_cont = df.groupby([\"continent\"])\n",
    "# for col_name, col_data in df.iteritems():\n",
    "#     if col_name == \"iso_code\" or col_name==\"continent\":\n",
    "#         continue\n",
    "#     df[col_name] = df_group_cont[col_name].apply(lambda x: x.fillna(x.mean()))\n",
    "#     print(col_data, (col_data == 0).all())"
   ]
  },
  {
   "cell_type": "code",
   "execution_count": 267,
   "metadata": {},
   "outputs": [],
   "source": [
    "applied_cols = list(df.columns)\n",
    "df_group_iso = df.groupby([\"iso_code\"])\n",
    "df_group_cont = df.groupby([\"continent\"])\n",
    "\n",
    "\n",
    "\n",
    "\n",
    "for col_name, col_data in df.iteritems():\n",
    "    if col_name == \"iso_code\" or col_name==\"continent\":\n",
    "        continue\n",
    "    # replace nan with country median\n",
    "    df[col_name] = df_group_iso[col_name].apply(lambda x: x.fillna(x.median()))\n",
    "    # replace nan with continent median\n",
    "    df[col_name] = df_group_cont[col_name].apply(lambda x: x.fillna(x.median()))\n",
    "\n",
    "# Only replace zero values when the entire column of the country is 0. This is because countries like Vietnam have days where no deaths are recorded, but other days still record a positive number. This is different to countries where no death numbers are recorded.\n",
    "df_group_cont_med = df_group_cont.median()\n",
    "for col_name, col_data in df_group_iso:    \n",
    "    for col in col_data:\n",
    "        if (col_data[col] == 0).all():\n",
    "            target = df.loc[df[\"iso_code\"] == col_name]\n",
    "            df.loc[df[\"iso_code\"] == col_name, col] = target[col].replace(0, df_group_cont_med.at[target[\"continent\"].iloc[0], col])\n",
    "\n"
   ]
  },
  {
   "cell_type": "code",
   "execution_count": 268,
   "metadata": {},
   "outputs": [],
   "source": [
    "indicator_cols = pd.get_dummies(df[[\"iso_code\", \"continent\"]])\n",
    "df = pd.concat([df, indicator_cols], axis=1)\n",
    "df.drop([\"iso_code\", \"continent\"], axis=1, inplace=True)"
   ]
  },
  {
   "cell_type": "code",
   "execution_count": 269,
   "metadata": {},
   "outputs": [],
   "source": [
    "df.to_csv(\"./test.csv\")"
   ]
  }
 ],
 "metadata": {
  "interpreter": {
   "hash": "a9856cc17a2c2dbfec4f3261ef1ef6a389c9e7abd9d72b5b069cb1b08caf3806"
  },
  "kernelspec": {
   "display_name": "Python 3.8.12 ('base')",
   "language": "python",
   "name": "python3"
  },
  "language_info": {
   "codemirror_mode": {
    "name": "ipython",
    "version": 3
   },
   "file_extension": ".py",
   "mimetype": "text/x-python",
   "name": "python",
   "nbconvert_exporter": "python",
   "pygments_lexer": "ipython3",
   "version": "3.8.12"
  },
  "orig_nbformat": 4
 },
 "nbformat": 4,
 "nbformat_minor": 2
}
