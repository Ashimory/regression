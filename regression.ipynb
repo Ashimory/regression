{
 "cells": [
  {
   "cell_type": "code",
   "execution_count": 179,
   "metadata": {},
   "outputs": [],
   "source": [
    "import numpy as np\n",
    "import pandas as pd\n",
    "import statsmodels.api as sm\n",
    "from collections import defaultdict\n",
    "import seaborn as sns"
   ]
  },
  {
   "cell_type": "code",
   "execution_count": 180,
   "metadata": {},
   "outputs": [],
   "source": [
    "df = pd.read_csv(r'./owid-2022-clean.csv')"
   ]
  },
  {
   "cell_type": "markdown",
   "metadata": {},
   "source": [
    "# Feature Selection"
   ]
  },
  {
   "cell_type": "markdown",
   "metadata": {},
   "source": [
    "1. Remove irrelevant fields as in instructions\n",
    "- location\n",
    "- date \n",
    "- total_deaths_per_million \n",
    "- total_cases_per_million\n",
    "- population\n",
    "- tests_units"
   ]
  },
  {
   "cell_type": "code",
   "execution_count": 181,
   "metadata": {},
   "outputs": [
    {
     "name": "stdout",
     "output_type": "stream",
     "text": [
      "(31,)\n",
      "(25,)\n"
     ]
    }
   ],
   "source": [
    "# Drop irrelevant fields\n",
    "print(df.columns.shape)\n",
    "df.drop([\"location\", \"date\", \"total_deaths_per_million\", \"total_cases_per_million\", \"population\", \"tests_units\"], axis=1, inplace=True)\n",
    "print(df.columns.shape)"
   ]
  },
  {
   "cell_type": "markdown",
   "metadata": {},
   "source": [
    "Then check which features have too many missing values"
   ]
  },
  {
   "cell_type": "code",
   "execution_count": 182,
   "metadata": {},
   "outputs": [
    {
     "name": "stdout",
     "output_type": "stream",
     "text": [
      "people_vaccinated_per_hundred: 734/1323\n",
      "people_fully_vaccinated_per_hundred: 717/1323\n",
      "total_boosters_per_hundred: 856/1323\n",
      "handwashing_facilities: 672/1323\n"
     ]
    }
   ],
   "source": [
    "for col_name, col_data in df.iteritems():\n",
    "    num_null = col_data.isnull().sum()\n",
    "    if num_null >= len(df)//2:\n",
    "        print(f\"{col_name}: {num_null}/{len(df)}\")\n"
   ]
  },
  {
   "cell_type": "markdown",
   "metadata": {},
   "source": [
    "We can see that there are 4 features that half of them are missing values. However, these features may be a good indicator for prediction; thus, we need to look into each continent for more insights"
   ]
  },
  {
   "cell_type": "code",
   "execution_count": 183,
   "metadata": {},
   "outputs": [
    {
     "name": "stdout",
     "output_type": "stream",
     "text": [
      "Africa:\n",
      "people_vaccinated_per_hundred                     :\t 298/378\n",
      "people_fully_vaccinated_per_hundred               :\t 300/378\n",
      "total_boosters_per_hundred                        :\t 352/378\n",
      "\n",
      "Asia:\n",
      "total_boosters_per_hundred                        :\t 191/329\n",
      "\n",
      "Europe:\n",
      "handwashing_facilities                            :\t 273/294\n",
      "\n",
      "North America:\n",
      "people_vaccinated_per_hundred                     :\t 104/175\n",
      "people_fully_vaccinated_per_hundred               :\t 105/175\n",
      "total_boosters_per_hundred                        :\t 123/175\n",
      "extreme_poverty                                   :\t 98/175\n",
      "male_smokers                                      :\t 91/175\n",
      "\n",
      "Oceania:\n",
      "new_tests_smoothed_per_thousand                   :\t 42/63\n",
      "positive_rate                                     :\t 56/63\n",
      "tests_per_case                                    :\t 56/63\n",
      "people_vaccinated_per_hundred                     :\t 42/63\n",
      "people_fully_vaccinated_per_hundred               :\t 42/63\n",
      "total_boosters_per_hundred                        :\t 49/63\n",
      "extreme_poverty                                   :\t 35/63\n",
      "handwashing_facilities                            :\t 49/63\n",
      "\n",
      "South America:\n",
      "handwashing_facilities                            :\t 42/84\n",
      "\n"
     ]
    }
   ],
   "source": [
    "df_group_iso = df.groupby([\"iso_code\"])\n",
    "df_group_cont = df.groupby([\"continent\"])\n",
    "\n",
    "null_feat = defaultdict(int)\n",
    "for cont, data in df_group_cont:\n",
    "    print(f\"{cont}:\")\n",
    "    for cols_name, col_data in data.iteritems():\n",
    "        num_null = col_data.isnull().sum()\n",
    "        if num_null >= len(col_data)//2:\n",
    "            null_feat[cols_name] += 1\n",
    "            print(f\"{cols_name:<50}:\\t {num_null}/{len(data)}\")\n",
    "            \n",
    "\n",
    "    print()\n",
    "\n",
    "\n"
   ]
  },
  {
   "cell_type": "code",
   "execution_count": 184,
   "metadata": {},
   "outputs": [
    {
     "data": {
      "text/plain": [
       "Index(['iso_code', 'continent', 'new_cases_per_million',\n",
       "       'new_deaths_per_million', 'new_tests_smoothed_per_thousand',\n",
       "       'positive_rate', 'tests_per_case', 'people_vaccinated_per_hundred',\n",
       "       'people_fully_vaccinated_per_hundred', 'total_boosters_per_hundred',\n",
       "       'stringency_index', 'population_density', 'median_age', 'aged_65_older',\n",
       "       'aged_70_older', 'gdp_per_capita', 'extreme_poverty',\n",
       "       'cardiovasc_death_rate', 'diabetes_prevalence', 'female_smokers',\n",
       "       'male_smokers', 'handwashing_facilities', 'hospital_beds_per_thousand',\n",
       "       'life_expectancy', 'human_development_index'],\n",
       "      dtype='object')"
      ]
     },
     "execution_count": 184,
     "metadata": {},
     "output_type": "execute_result"
    }
   ],
   "source": [
    "df.columns"
   ]
  },
  {
   "cell_type": "markdown",
   "metadata": {},
   "source": [
    "Next we will look into the correlation between variables with respect to continent to spot dependent features"
   ]
  },
  {
   "cell_type": "markdown",
   "metadata": {},
   "source": [
    "First we inpect \"age\" group "
   ]
  },
  {
   "cell_type": "code",
   "execution_count": 185,
   "metadata": {},
   "outputs": [],
   "source": [
    "sns.set_style(\"darkgrid\", {\"axes.facecolor\": \".9\"})"
   ]
  },
  {
   "cell_type": "code",
   "execution_count": 186,
   "metadata": {},
   "outputs": [],
   "source": [
    "# age_cols = [\"continent\", \n",
    "#             \"median_age\", \n",
    "#             \"aged_65_older\", \n",
    "#             \"aged_70_older\", \n",
    "#             \"life_expectancy\"]\n",
    "# df_age = df.loc[:, age_cols]\n",
    "# sns.pairplot(df_age, hue=\"continent\", corner=True)"
   ]
  },
  {
   "cell_type": "markdown",
   "metadata": {},
   "source": [
    "In the graph above, there is a high correlation between ```aged_65_older``` and ```aged_70_older```, thus we can remove ```aged_70_older``` from prediction model\n"
   ]
  },
  {
   "cell_type": "code",
   "execution_count": 187,
   "metadata": {},
   "outputs": [
    {
     "data": {
      "text/plain": [
       "0.9946122663675626"
      ]
     },
     "execution_count": 187,
     "metadata": {},
     "output_type": "execute_result"
    }
   ],
   "source": [
    "df[\"aged_70_older\"].corr(df[\"aged_65_older\"])"
   ]
  },
  {
   "cell_type": "code",
   "execution_count": 188,
   "metadata": {},
   "outputs": [],
   "source": [
    "df.drop([\"aged_70_older\"], inplace=True, axis=1)"
   ]
  },
  {
   "cell_type": "markdown",
   "metadata": {},
   "source": [
    "Next, we inspect booster group as many booster features have too many missing values as shown above"
   ]
  },
  {
   "cell_type": "code",
   "execution_count": 189,
   "metadata": {},
   "outputs": [],
   "source": [
    "# boost_cols = [\n",
    "#     \"continent\", \n",
    "#     \"people_vaccinated_per_hundred\", \n",
    "#     \"people_fully_vaccinated_per_hundred\", \n",
    "#     \"total_boosters_per_hundred\", \n",
    "#     \"tests_per_case\", \n",
    "#     \"new_tests_smoothed_per_thousand\"] \n",
    "\n",
    "# df_boost = df.loc[:, boost_cols]\n",
    "# sns.pairplot(df_boost, hue=\"continent\", corner=True)"
   ]
  },
  {
   "cell_type": "code",
   "execution_count": 190,
   "metadata": {},
   "outputs": [
    {
     "data": {
      "text/plain": [
       "0.794440276907046"
      ]
     },
     "execution_count": 190,
     "metadata": {},
     "output_type": "execute_result"
    }
   ],
   "source": [
    "df[\"people_fully_vaccinated_per_hundred\"].corr(df[\"total_boosters_per_hundred\"])"
   ]
  },
  {
   "cell_type": "code",
   "execution_count": 191,
   "metadata": {},
   "outputs": [
    {
     "data": {
      "text/plain": [
       "0.9712407852959766"
      ]
     },
     "execution_count": 191,
     "metadata": {},
     "output_type": "execute_result"
    }
   ],
   "source": [
    "df[\"people_fully_vaccinated_per_hundred\"].corr(df[\"people_vaccinated_per_hundred\"])\n",
    "\n"
   ]
  },
  {
   "cell_type": "markdown",
   "metadata": {},
   "source": [
    "In the graph above, there is a high correlation between ```people_vaccinated_per_hundred```, ```people_fully_vaccinated_per_hundred```, and ```total_boosters_per_hundred```. Also these 2 removed features are also in the list of features with many missing values. Thus we can remove ```people_vaccinated_per_hundred``` and ```total_boosters_per_hundred``` from prediction model."
   ]
  },
  {
   "cell_type": "code",
   "execution_count": 192,
   "metadata": {},
   "outputs": [],
   "source": [
    "df.drop([\"people_vaccinated_per_hundred\", \"total_boosters_per_hundred\"], inplace=True, axis=1)"
   ]
  },
  {
   "cell_type": "markdown",
   "metadata": {},
   "source": [
    "Next, we inspect standard of living group to see if we can remove handwahsing facilities feature as it has many missing values in several continents"
   ]
  },
  {
   "cell_type": "code",
   "execution_count": 193,
   "metadata": {},
   "outputs": [
    {
     "data": {
      "text/plain": [
       "Index(['iso_code', 'continent', 'new_cases_per_million',\n",
       "       'new_deaths_per_million', 'new_tests_smoothed_per_thousand',\n",
       "       'positive_rate', 'tests_per_case',\n",
       "       'people_fully_vaccinated_per_hundred', 'stringency_index',\n",
       "       'population_density', 'median_age', 'aged_65_older', 'gdp_per_capita',\n",
       "       'extreme_poverty', 'cardiovasc_death_rate', 'diabetes_prevalence',\n",
       "       'female_smokers', 'male_smokers', 'handwashing_facilities',\n",
       "       'hospital_beds_per_thousand', 'life_expectancy',\n",
       "       'human_development_index'],\n",
       "      dtype='object')"
      ]
     },
     "execution_count": 193,
     "metadata": {},
     "output_type": "execute_result"
    }
   ],
   "source": [
    "df.columns"
   ]
  },
  {
   "cell_type": "code",
   "execution_count": 194,
   "metadata": {},
   "outputs": [],
   "source": [
    "# live_cols = [\n",
    "#     \"continent\", \n",
    "#     \"gdp_per_capita\", \n",
    "#     \"extreme_poverty\", \n",
    "#     \"handwashing_facilities\", \n",
    "#     \"hospital_beds_per_thousand\", \n",
    "#     \"human_development_index\"] \n",
    "\n",
    "# df_live = df.loc[:, live_cols]\n",
    "# sns.pairplot(df_live, hue=\"continent\", corner=True)"
   ]
  },
  {
   "cell_type": "code",
   "execution_count": 195,
   "metadata": {},
   "outputs": [
    {
     "name": "stdout",
     "output_type": "stream",
     "text": [
      "corr between handwashing_facilities and human_development_index: 0.8357\n"
     ]
    }
   ],
   "source": [
    "temp_cor = df[\"handwashing_facilities\"].corr(df[\"human_development_index\"])\n",
    "print(f\"corr between handwashing_facilities and human_development_index: {temp_cor:.4f}\")"
   ]
  },
  {
   "cell_type": "markdown",
   "metadata": {},
   "source": [
    "we can see that there is a high correlation (around 0.83) between ```handwashing_facilities``` and ```human_development_index```\n",
    "\n",
    "Moreover, ```handwashing_facilities``` has many missing values and ```human_development_index``` is a more holistic feature, thus we can remove ```handwashing_facilities``` from prediction model.\n"
   ]
  },
  {
   "cell_type": "code",
   "execution_count": 196,
   "metadata": {},
   "outputs": [],
   "source": [
    "df.drop([\"handwashing_facilities\"], inplace=True, axis=1)"
   ]
  },
  {
   "cell_type": "code",
   "execution_count": 197,
   "metadata": {},
   "outputs": [
    {
     "data": {
      "text/plain": [
       "Index(['iso_code', 'continent', 'new_cases_per_million',\n",
       "       'new_deaths_per_million', 'new_tests_smoothed_per_thousand',\n",
       "       'positive_rate', 'tests_per_case',\n",
       "       'people_fully_vaccinated_per_hundred', 'stringency_index',\n",
       "       'population_density', 'median_age', 'aged_65_older', 'gdp_per_capita',\n",
       "       'extreme_poverty', 'cardiovasc_death_rate', 'diabetes_prevalence',\n",
       "       'female_smokers', 'male_smokers', 'hospital_beds_per_thousand',\n",
       "       'life_expectancy', 'human_development_index'],\n",
       "      dtype='object')"
      ]
     },
     "execution_count": 197,
     "metadata": {},
     "output_type": "execute_result"
    }
   ],
   "source": [
    "df.columns"
   ]
  },
  {
   "cell_type": "markdown",
   "metadata": {},
   "source": [
    "Health Category"
   ]
  },
  {
   "cell_type": "code",
   "execution_count": 198,
   "metadata": {},
   "outputs": [],
   "source": [
    "# health_cols = [\n",
    "#     \"continent\", \n",
    "#     \"cardiovasc_death_rate\", \n",
    "#     \"diabetes_prevalence\", \n",
    "#     \"female_smokers\", \n",
    "#     \"male_smokers\", \n",
    "#     \"life_expectancy\", \n",
    "#     \"human_development_index\"] \n",
    "\n",
    "# df_health = df.loc[:, health_cols]\n",
    "# sns.pairplot(df_health, hue=\"continent\", corner=True)"
   ]
  },
  {
   "cell_type": "code",
   "execution_count": 199,
   "metadata": {},
   "outputs": [
    {
     "data": {
      "text/plain": [
       "0.9120847433498297"
      ]
     },
     "execution_count": 199,
     "metadata": {},
     "output_type": "execute_result"
    }
   ],
   "source": [
    "df[\"human_development_index\"].corr(df[\"life_expectancy\"])"
   ]
  },
  {
   "cell_type": "markdown",
   "metadata": {},
   "source": [
    "As life expectancy is one of the criteria in Human Development Index measurement, the graph shows a clear relationship between them. Therefore, it would be sensible to drop the `life_expectancy` feature"
   ]
  },
  {
   "cell_type": "code",
   "execution_count": 200,
   "metadata": {},
   "outputs": [],
   "source": [
    "df.drop([\"life_expectancy\"], inplace=True, axis=1)"
   ]
  },
  {
   "cell_type": "code",
   "execution_count": 201,
   "metadata": {},
   "outputs": [
    {
     "data": {
      "text/plain": [
       "(1323, 20)"
      ]
     },
     "execution_count": 201,
     "metadata": {},
     "output_type": "execute_result"
    }
   ],
   "source": [
    "df.shape"
   ]
  },
  {
   "cell_type": "markdown",
   "metadata": {},
   "source": [
    "# Filling missing data"
   ]
  },
  {
   "cell_type": "markdown",
   "metadata": {},
   "source": [
    "In each continent, countries differ in many aspects such as population, human development index, GDP, and so on. For example China is a great outliner in Asia and most of countries with many missing values is somewhat developing countries with these aspects are in big difference compared to China. \n",
    "\n",
    "Therefore, it would be better to fill in the missing value with the median of that feature in a continent, instead of mean if that country has the whole feature values missing.\n",
    "\n",
    "If that country's feature has at least one value then we can take the mean or if number of values is more than 4 then we just do interpolation."
   ]
  },
  {
   "cell_type": "markdown",
   "metadata": {},
   "source": [
    "Before filling in the value, notice hat in Oceania, there are some features (`new_tests_smoothed_per_thousand`, `positive_rate`, `tests_per_case`, `total_boosters_per_hundred`, `handwashing_facilities`, and so on) exist in only one or two countries (Australia). For that reason, taking the median or mean in that continent is not a good idea.\n",
    "\n",
    "Despite that lack of data, we still fill in these countries in Oceania with median and carefully observe their result in the later step"
   ]
  },
  {
   "cell_type": "code",
   "execution_count": 203,
   "metadata": {},
   "outputs": [],
   "source": [
    "applied_cols = list(df.columns)\n",
    "df_group_iso = df.groupby([\"iso_code\"])\n",
    "df_group_cont = df.groupby([\"continent\"])\n",
    "\n",
    "for col_name, col_data in df.iteritems():\n",
    "    if col_name == \"iso_code\" or col_name==\"continent\":\n",
    "        continue\n",
    "    df[col_name] = df_group_iso[col_name].apply(lambda x: x.fillna(x.mean()))\n",
    "    df[col_name] = df_group_cont[col_name].apply(lambda x: x.fillna(x.median()))\n",
    "\n"
   ]
  },
  {
   "cell_type": "markdown",
   "metadata": {},
   "source": [
    "Now all the regressors values is filled in"
   ]
  },
  {
   "cell_type": "code",
   "execution_count": 208,
   "metadata": {},
   "outputs": [
    {
     "data": {
      "text/plain": [
       "iso_code                               0\n",
       "continent                              0\n",
       "new_cases_per_million                  0\n",
       "new_deaths_per_million                 0\n",
       "new_tests_smoothed_per_thousand        0\n",
       "positive_rate                          0\n",
       "tests_per_case                         0\n",
       "people_fully_vaccinated_per_hundred    0\n",
       "stringency_index                       0\n",
       "population_density                     0\n",
       "median_age                             0\n",
       "aged_65_older                          0\n",
       "gdp_per_capita                         0\n",
       "extreme_poverty                        0\n",
       "cardiovasc_death_rate                  0\n",
       "diabetes_prevalence                    0\n",
       "female_smokers                         0\n",
       "male_smokers                           0\n",
       "hospital_beds_per_thousand             0\n",
       "human_development_index                0\n",
       "dtype: int64"
      ]
     },
     "execution_count": 208,
     "metadata": {},
     "output_type": "execute_result"
    }
   ],
   "source": [
    "df.isna().sum()"
   ]
  },
  {
   "cell_type": "markdown",
   "metadata": {},
   "source": [
    "Next, there are entries with 0 values in 2 prediction columns (`new_cases_per_million` and `new_death_per_million`). \n",
    "\n",
    "If all 7 days values are 0 then we can drop that country or replace with median of the continent, else if we have at least 1 day with value then replace with mean value of other days"
   ]
  },
  {
   "cell_type": "code",
   "execution_count": 214,
   "metadata": {},
   "outputs": [],
   "source": [
    "df_group_cont_med = df_group_cont.median()\n",
    "for col_name, col_data in df_group_iso:    \n",
    "    for col in col_data:\n",
    "        if (col_data[col] == 0).all():\n",
    "            target = df.loc[df[\"iso_code\"] == col_name]\n",
    "            df.loc[df[\"iso_code\"] == col_name, col] = target[col].replace(0, df_group_cont_med.at[target[\"continent\"].iloc[0], col])"
   ]
  },
  {
   "cell_type": "code",
   "execution_count": 210,
   "metadata": {},
   "outputs": [],
   "source": [
    "df.to_csv(\"./test.csv\")"
   ]
  },
  {
   "cell_type": "markdown",
   "metadata": {},
   "source": [
    "Next change categorical fields (`continent`) into boolean variable"
   ]
  },
  {
   "cell_type": "code",
   "execution_count": 215,
   "metadata": {},
   "outputs": [],
   "source": [
    "indicator_cols = pd.get_dummies(df[[\"continent\"]])\n",
    "df = pd.concat([df, indicator_cols], axis=1)\n",
    "df.drop([\"continent\"], axis=1, inplace=True)"
   ]
  },
  {
   "cell_type": "markdown",
   "metadata": {},
   "source": [
    "# Prediction"
   ]
  },
  {
   "cell_type": "code",
   "execution_count": 222,
   "metadata": {},
   "outputs": [],
   "source": [
    "from sklearn.preprocessing import MinMaxScaler, StandardScaler"
   ]
  },
  {
   "cell_type": "code",
   "execution_count": 219,
   "metadata": {},
   "outputs": [
    {
     "data": {
      "text/plain": [
       "array([[<AxesSubplot:title={'center':'new_cases_per_million'}>,\n",
       "        <AxesSubplot:title={'center':'new_deaths_per_million'}>,\n",
       "        <AxesSubplot:title={'center':'new_tests_smoothed_per_thousand'}>,\n",
       "        <AxesSubplot:title={'center':'positive_rate'}>,\n",
       "        <AxesSubplot:title={'center':'tests_per_case'}>],\n",
       "       [<AxesSubplot:title={'center':'people_fully_vaccinated_per_hundred'}>,\n",
       "        <AxesSubplot:title={'center':'stringency_index'}>,\n",
       "        <AxesSubplot:title={'center':'population_density'}>,\n",
       "        <AxesSubplot:title={'center':'median_age'}>,\n",
       "        <AxesSubplot:title={'center':'aged_65_older'}>],\n",
       "       [<AxesSubplot:title={'center':'gdp_per_capita'}>,\n",
       "        <AxesSubplot:title={'center':'extreme_poverty'}>,\n",
       "        <AxesSubplot:title={'center':'cardiovasc_death_rate'}>,\n",
       "        <AxesSubplot:title={'center':'diabetes_prevalence'}>,\n",
       "        <AxesSubplot:title={'center':'female_smokers'}>],\n",
       "       [<AxesSubplot:title={'center':'male_smokers'}>,\n",
       "        <AxesSubplot:title={'center':'hospital_beds_per_thousand'}>,\n",
       "        <AxesSubplot:title={'center':'human_development_index'}>,\n",
       "        <AxesSubplot:title={'center':'continent_Africa'}>,\n",
       "        <AxesSubplot:title={'center':'continent_Asia'}>],\n",
       "       [<AxesSubplot:title={'center':'continent_Europe'}>,\n",
       "        <AxesSubplot:title={'center':'continent_North America'}>,\n",
       "        <AxesSubplot:title={'center':'continent_Oceania'}>,\n",
       "        <AxesSubplot:title={'center':'continent_South America'}>,\n",
       "        <AxesSubplot:>]], dtype=object)"
      ]
     },
     "execution_count": 219,
     "metadata": {},
     "output_type": "execute_result"
    },
    {
     "data": {
      "image/png": "[encoded data removed]",
      "text/plain": [
       "<Figure size 432x288 with 25 Axes>"
      ]
     },
     "metadata": {},
     "output_type": "display_data"
    }
   ],
   "source": [
    "df.hist()"
   ]
  },
  {
   "cell_type": "markdown",
   "metadata": {},
   "source": [
    "As some features do not follow normal distribution, therefore, we will use min max scaler instead of standard scaler"
   ]
  },
  {
   "cell_type": "code",
   "execution_count": 224,
   "metadata": {},
   "outputs": [],
   "source": [
    "X = df.drop(['iso_code', 'new_cases_per_million','new_deaths_per_million'], inplace = False, axis = 1).to_numpy()\n",
    "y = df[['new_cases_per_million','new_deaths_per_million']].to_numpy()"
   ]
  },
  {
   "cell_type": "code",
   "execution_count": 225,
   "metadata": {},
   "outputs": [],
   "source": [
    "X_scaled = MinMaxScaler().fit_transform(X)"
   ]
  },
  {
   "cell_type": "markdown",
   "metadata": {},
   "source": []
  }
 ],
 "metadata": {
  "interpreter": {
   "hash": "08ed8f9a424e71ecb4dc69db0334cf3f416d9ce53adb05348e5735c903720564"
  },
  "kernelspec": {
   "display_name": "Python 3.9.7 ('base')",
   "language": "python",
   "name": "python3"
  },
  "language_info": {
   "codemirror_mode": {
    "name": "ipython",
    "version": 3
   },
   "file_extension": ".py",
   "mimetype": "text/x-python",
   "name": "python",
   "nbconvert_exporter": "python",
   "pygments_lexer": "ipython3",
   "version": "3.9.7"
  },
  "orig_nbformat": 4
 },
 "nbformat": 4,
 "nbformat_minor": 2
}
