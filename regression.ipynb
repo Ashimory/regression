{
 "cells": [
  {
   "cell_type": "code",
   "execution_count": 637,
   "metadata": {},
   "outputs": [],
   "source": [
    "import pandas as pd\n",
    "import statsmodels.api as sm"
   ]
  },
  {
   "cell_type": "code",
   "execution_count": 638,
   "metadata": {},
   "outputs": [],
   "source": [
    "df = pd.read_csv(r'./owid-2022-clean.csv')"
   ]
  },
  {
   "cell_type": "code",
   "execution_count": 639,
   "metadata": {},
   "outputs": [
    {
     "name": "stdout",
     "output_type": "stream",
     "text": [
      "(31,)\n",
      "(25,)\n"
     ]
    }
   ],
   "source": [
    "# Drop irrelevant fields\n",
    "print(df.columns.shape)\n",
    "df.drop([\"location\", \"date\", \"total_deaths_per_million\", \"total_cases_per_million\", \"population\", \"tests_units\"], axis=1, inplace=True)\n",
    "\n",
    "print(df.columns.shape)"
   ]
  },
  {
   "cell_type": "code",
   "execution_count": 640,
   "metadata": {},
   "outputs": [],
   "source": [
    "# applied_cols = list(df.columns)\n",
    "# df_group_iso = df.groupby([\"iso_code\"])\n",
    "# for col_name, col_data in df.iteritems():\n",
    "#     if col_name == \"iso_code\" or col_name==\"continent\":\n",
    "#         continue\n",
    "#     df[col_name] = df_group_iso[col_name].apply(lambda x: x.fillna(x.mean()))\n",
    "\n",
    "\n",
    "# df_group_cont = df.groupby([\"continent\"])\n",
    "# for col_name, col_data in df.iteritems():\n",
    "#     if col_name == \"iso_code\" or col_name==\"continent\":\n",
    "#         continue\n",
    "#     df[col_name] = df_group_cont[col_name].apply(lambda x: x.fillna(x.mean()))\n",
    "#     print(col_data, (col_data == 0).all())"
   ]
  },
  {
   "cell_type": "code",
   "execution_count": 641,
   "metadata": {},
   "outputs": [],
   "source": [
    "applied_cols = list(df.columns)\n",
    "df_group_iso = df.groupby([\"iso_code\"])\n",
    "df_group_cont = df.groupby([\"continent\"])\n",
    "\n",
    "\n",
    "\n",
    "\n",
    "for col_name, col_data in df.iteritems():\n",
    "    if col_name == \"iso_code\" or col_name==\"continent\":\n",
    "        continue\n",
    "    # replace nan with country median\n",
    "    df[col_name] = df_group_iso[col_name].apply(lambda x: x.fillna(x.median()))\n",
    "    # replace nan with continent median\n",
    "    df[col_name] = df_group_cont[col_name].apply(lambda x: x.fillna(x.median()))\n",
    "\n",
    "# Only replace zero values when the entire column of the country is 0. This is because countries like Vietnam have days where no deaths are recorded, but other days still record a positive number. This is different to countries where no death numbers are recorded.\n",
    "df_group_cont_med = df_group_cont.median()\n",
    "for col_name, col_data in df_group_iso:    \n",
    "    for col in col_data:\n",
    "        if (col_data[col] == 0).all():\n",
    "            target = df.loc[df[\"iso_code\"] == col_name]\n",
    "            df.loc[df[\"iso_code\"] == col_name, col] = target[col].replace(0, df_group_cont_med.at[target[\"continent\"].iloc[0], col])\n",
    "\n"
   ]
  },
  {
   "cell_type": "code",
   "execution_count": 642,
   "metadata": {},
   "outputs": [],
   "source": [
    "indicator_cols = pd.get_dummies(df[ \"continent\"])\n",
    "df = pd.concat([df, indicator_cols], axis=1)\n",
    "df.drop([\"iso_code\", \"continent\"], axis=1, inplace=True)"
   ]
  },
  {
   "cell_type": "code",
   "execution_count": 643,
   "metadata": {},
   "outputs": [],
   "source": [
    "df.to_csv(\"./data.csv\")"
   ]
  },
  {
   "cell_type": "code",
   "execution_count": 644,
   "metadata": {},
   "outputs": [],
   "source": [
    "def linear_regression(X: pd.DataFrame, y: pd.DataFrame, ft_in_use, log=False):\n",
    "    X = X[ft_in_use]\n",
    "\n",
    "    model = sm.OLS(y, sm.add_constant(X))\n",
    "    results = model.fit()\n",
    "\n",
    "    if (log):\n",
    "        print(results.summary())\n",
    "\n",
    "    y_pred = results.predict(sm.add_constant(X))\n",
    "    print(f'MSE: {sum((y - y_pred) ** 2) / len(y)}')\n",
    "    return results"
   ]
  },
  {
   "cell_type": "code",
   "execution_count": 645,
   "metadata": {},
   "outputs": [],
   "source": [
    "df = pd.read_csv('data.csv')\n",
    "\n",
    "ft_predict = ['new_deaths_per_million', 'new_cases_per_million']\n",
    "ft_ignore = ['iso_code', 'location', 'date', 'total_deaths', 'total_cases_per_million', 'total_deaths_per_million', 'population', 'tests_units'] # add ignore column names here\n",
    "\n",
    "features = list(set(df.columns).difference(ft_predict + ft_ignore))\n",
    "\n",
    "y = df[ft_predict]\n",
    "X = df[features]"
   ]
  },
  {
   "cell_type": "code",
   "execution_count": 646,
   "metadata": {},
   "outputs": [
    {
     "ename": "SyntaxError",
     "evalue": "invalid syntax (3819791432.py, line 1)",
     "output_type": "error",
     "traceback": [
      "\u001b[1;36m  Input \u001b[1;32mIn [646]\u001b[1;36m\u001b[0m\n\u001b[1;33m    def new_deaths_per_million(X: pd.DataFrame, y: pd.DataFrame, ft_in_use, True):\u001b[0m\n\u001b[1;37m                                                                            ^\u001b[0m\n\u001b[1;31mSyntaxError\u001b[0m\u001b[1;31m:\u001b[0m invalid syntax\n"
     ]
    }
   ],
   "source": [
    "def new_deaths_per_million(X: pd.DataFrame, y: pd.DataFrame, ft_in_use, log = True):\n",
    "    return linear_regression(X, y['new_deaths_per_million'], ft_in_use)"
   ]
  },
  {
   "cell_type": "code",
   "execution_count": null,
   "metadata": {},
   "outputs": [],
   "source": [
    "def new_cases_per_million(X: pd.DataFrame, y: pd.DataFrame, ft_in_use, log = True):\n",
    "    return linear_regression(X, y['new_cases_per_million'], ft_in_use)"
   ]
  },
  {
   "cell_type": "code",
   "execution_count": null,
   "metadata": {},
   "outputs": [
    {
     "name": "stdout",
     "output_type": "stream",
     "text": [
      "MSE: 16.225021880629296\n",
      "MSE: 2299560.054719626\n"
     ]
    },
    {
     "name": "stderr",
     "output_type": "stream",
     "text": [
      "c:\\Users\\Ashimory\\anaconda3\\lib\\site-packages\\statsmodels\\tsa\\tsatools.py:142: FutureWarning: In a future version of pandas all arguments of concat except for the argument 'objs' will be keyword-only.\n",
      "  x = pd.concat(x[::order], 1)\n",
      "c:\\Users\\Ashimory\\anaconda3\\lib\\site-packages\\statsmodels\\tsa\\tsatools.py:142: FutureWarning: In a future version of pandas all arguments of concat except for the argument 'objs' will be keyword-only.\n",
      "  x = pd.concat(x[::order], 1)\n",
      "c:\\Users\\Ashimory\\anaconda3\\lib\\site-packages\\statsmodels\\tsa\\tsatools.py:142: FutureWarning: In a future version of pandas all arguments of concat except for the argument 'objs' will be keyword-only.\n",
      "  x = pd.concat(x[::order], 1)\n",
      "c:\\Users\\Ashimory\\anaconda3\\lib\\site-packages\\statsmodels\\tsa\\tsatools.py:142: FutureWarning: In a future version of pandas all arguments of concat except for the argument 'objs' will be keyword-only.\n",
      "  x = pd.concat(x[::order], 1)\n"
     ]
    }
   ],
   "source": [
    "# ordinary linear regression\n",
    "\n",
    "dth = new_deaths_per_million(X, y, features)\n",
    "cas = new_cases_per_million(X, y, features)"
   ]
  },
  {
   "cell_type": "code",
   "execution_count": null,
   "metadata": {},
   "outputs": [],
   "source": [
    "# reorder columns according to p-values\n",
    "# save to `features` variable\n",
    "\n",
    "deaths_ft = sorted(features, key=lambda col: dth.pvalues[col], reverse=True)\n",
    "cases_ft = sorted(features, key=lambda col: cas.pvalues[col], reverse=True)\n",
    "\n",
    "alpha = 0.05"
   ]
  },
  {
   "cell_type": "code",
   "execution_count": null,
   "metadata": {},
   "outputs": [],
   "source": [
    "# stepwise forward regression\n",
    "\n",
    "def forward_reg(title, features, func):\n",
    "    if (title is not None):\n",
    "        print(title)\n",
    "    \n",
    "    ft_in_use = []\n",
    "    for col in features:\n",
    "        ft_in_use.append(col)\n",
    "\n",
    "        res = func(X, y, ft_in_use)\n",
    "\n",
    "        print(f'Added ft:  {col}')\n",
    "        print(f'Ft in use: {ft_in_use}')\n",
    "\n",
    "        if (max(res.pvalues) > alpha):\n",
    "            print(f'Break due to stopping rule: max pvalue = {max(res.pvalues)} > {alpha}')\n",
    "            break\n",
    "\n",
    "        print('*' * 20)"
   ]
  },
  {
   "cell_type": "code",
   "execution_count": null,
   "metadata": {},
   "outputs": [
    {
     "name": "stdout",
     "output_type": "stream",
     "text": [
      "New deaths per million model:\n",
      "MSE: 21.268216022993105\n",
      "Added ft:  new_tests_smoothed_per_thousand\n",
      "Ft in use: ['new_tests_smoothed_per_thousand']\n",
      "********************\n",
      "MSE: 19.740071632813375\n",
      "Added ft:  life_expectancy\n",
      "Ft in use: ['new_tests_smoothed_per_thousand', 'life_expectancy']\n",
      "Break due to stopping rule: max pvalue = 0.722110036284709 > 0.05\n"
     ]
    },
    {
     "name": "stderr",
     "output_type": "stream",
     "text": [
      "c:\\Users\\Ashimory\\anaconda3\\lib\\site-packages\\statsmodels\\tsa\\tsatools.py:142: FutureWarning: In a future version of pandas all arguments of concat except for the argument 'objs' will be keyword-only.\n",
      "  x = pd.concat(x[::order], 1)\n",
      "c:\\Users\\Ashimory\\anaconda3\\lib\\site-packages\\statsmodels\\tsa\\tsatools.py:142: FutureWarning: In a future version of pandas all arguments of concat except for the argument 'objs' will be keyword-only.\n",
      "  x = pd.concat(x[::order], 1)\n",
      "c:\\Users\\Ashimory\\anaconda3\\lib\\site-packages\\statsmodels\\tsa\\tsatools.py:142: FutureWarning: In a future version of pandas all arguments of concat except for the argument 'objs' will be keyword-only.\n",
      "  x = pd.concat(x[::order], 1)\n",
      "c:\\Users\\Ashimory\\anaconda3\\lib\\site-packages\\statsmodels\\tsa\\tsatools.py:142: FutureWarning: In a future version of pandas all arguments of concat except for the argument 'objs' will be keyword-only.\n",
      "  x = pd.concat(x[::order], 1)\n"
     ]
    }
   ],
   "source": [
    "# stepwise forward regression\n",
    "forward_reg('New deaths per million model:', deaths_ft, new_deaths_per_million)"
   ]
  },
  {
   "cell_type": "code",
   "execution_count": null,
   "metadata": {},
   "outputs": [
    {
     "name": "stdout",
     "output_type": "stream",
     "text": [
      "New cases per million model:\n",
      "MSE: 3025649.4770217272\n",
      "Added ft:  gdp_per_capita\n",
      "Ft in use: ['gdp_per_capita']\n",
      "********************\n",
      "MSE: 3022393.2969941846\n",
      "Added ft:  stringency_index\n",
      "Ft in use: ['gdp_per_capita', 'stringency_index']\n",
      "Break due to stopping rule: max pvalue = 0.23327172677883487 > 0.05\n"
     ]
    },
    {
     "name": "stderr",
     "output_type": "stream",
     "text": [
      "c:\\Users\\Ashimory\\anaconda3\\lib\\site-packages\\statsmodels\\tsa\\tsatools.py:142: FutureWarning: In a future version of pandas all arguments of concat except for the argument 'objs' will be keyword-only.\n",
      "  x = pd.concat(x[::order], 1)\n",
      "c:\\Users\\Ashimory\\anaconda3\\lib\\site-packages\\statsmodels\\tsa\\tsatools.py:142: FutureWarning: In a future version of pandas all arguments of concat except for the argument 'objs' will be keyword-only.\n",
      "  x = pd.concat(x[::order], 1)\n",
      "c:\\Users\\Ashimory\\anaconda3\\lib\\site-packages\\statsmodels\\tsa\\tsatools.py:142: FutureWarning: In a future version of pandas all arguments of concat except for the argument 'objs' will be keyword-only.\n",
      "  x = pd.concat(x[::order], 1)\n",
      "c:\\Users\\Ashimory\\anaconda3\\lib\\site-packages\\statsmodels\\tsa\\tsatools.py:142: FutureWarning: In a future version of pandas all arguments of concat except for the argument 'objs' will be keyword-only.\n",
      "  x = pd.concat(x[::order], 1)\n"
     ]
    }
   ],
   "source": [
    "forward_reg('New cases per million model:', cases_ft, new_cases_per_million)"
   ]
  },
  {
   "cell_type": "code",
   "execution_count": null,
   "metadata": {},
   "outputs": [],
   "source": [
    "# stepwise backward regression\n",
    "\n",
    "def backward_reg(title, features, func):\n",
    "    if (title is not None):\n",
    "        print(title)\n",
    "    \n",
    "    ft_in_use = features.copy()\n",
    "    for col in features:\n",
    "        ft_in_use.remove(col)\n",
    "\n",
    "        res = func(X, y, ft_in_use)\n",
    "\n",
    "        print(f'Removed ft:  {col}')\n",
    "        print(f'Ft in use: {ft_in_use}')\n",
    "\n",
    "        if (max(res.pvalues) < alpha):\n",
    "            print(f'Break due to stopping rule: max pvalue = {max(res.pvalues)} < {alpha}')\n",
    "            break\n",
    "\n",
    "        print('*' * 20)"
   ]
  },
  {
   "cell_type": "code",
   "execution_count": null,
   "metadata": {},
   "outputs": [
    {
     "name": "stderr",
     "output_type": "stream",
     "text": [
      "c:\\Users\\Ashimory\\anaconda3\\lib\\site-packages\\statsmodels\\tsa\\tsatools.py:142: FutureWarning: In a future version of pandas all arguments of concat except for the argument 'objs' will be keyword-only.\n",
      "  x = pd.concat(x[::order], 1)\n",
      "c:\\Users\\Ashimory\\anaconda3\\lib\\site-packages\\statsmodels\\tsa\\tsatools.py:142: FutureWarning: In a future version of pandas all arguments of concat except for the argument 'objs' will be keyword-only.\n",
      "  x = pd.concat(x[::order], 1)\n"
     ]
    },
    {
     "name": "stdout",
     "output_type": "stream",
     "text": [
      "New deaths per million model:\n"
     ]
    },
    {
     "name": "stderr",
     "output_type": "stream",
     "text": [
      "c:\\Users\\Ashimory\\anaconda3\\lib\\site-packages\\statsmodels\\tsa\\tsatools.py:142: FutureWarning: In a future version of pandas all arguments of concat except for the argument 'objs' will be keyword-only.\n",
      "  x = pd.concat(x[::order], 1)\n",
      "c:\\Users\\Ashimory\\anaconda3\\lib\\site-packages\\statsmodels\\tsa\\tsatools.py:142: FutureWarning: In a future version of pandas all arguments of concat except for the argument 'objs' will be keyword-only.\n",
      "  x = pd.concat(x[::order], 1)\n",
      "c:\\Users\\Ashimory\\anaconda3\\lib\\site-packages\\statsmodels\\tsa\\tsatools.py:142: FutureWarning: In a future version of pandas all arguments of concat except for the argument 'objs' will be keyword-only.\n",
      "  x = pd.concat(x[::order], 1)\n",
      "c:\\Users\\Ashimory\\anaconda3\\lib\\site-packages\\statsmodels\\tsa\\tsatools.py:142: FutureWarning: In a future version of pandas all arguments of concat except for the argument 'objs' will be keyword-only.\n",
      "  x = pd.concat(x[::order], 1)\n",
      "c:\\Users\\Ashimory\\anaconda3\\lib\\site-packages\\statsmodels\\tsa\\tsatools.py:142: FutureWarning: In a future version of pandas all arguments of concat except for the argument 'objs' will be keyword-only.\n",
      "  x = pd.concat(x[::order], 1)\n",
      "c:\\Users\\Ashimory\\anaconda3\\lib\\site-packages\\statsmodels\\tsa\\tsatools.py:142: FutureWarning: In a future version of pandas all arguments of concat except for the argument 'objs' will be keyword-only.\n",
      "  x = pd.concat(x[::order], 1)\n",
      "c:\\Users\\Ashimory\\anaconda3\\lib\\site-packages\\statsmodels\\tsa\\tsatools.py:142: FutureWarning: In a future version of pandas all arguments of concat except for the argument 'objs' will be keyword-only.\n",
      "  x = pd.concat(x[::order], 1)\n",
      "c:\\Users\\Ashimory\\anaconda3\\lib\\site-packages\\statsmodels\\tsa\\tsatools.py:142: FutureWarning: In a future version of pandas all arguments of concat except for the argument 'objs' will be keyword-only.\n",
      "  x = pd.concat(x[::order], 1)\n",
      "c:\\Users\\Ashimory\\anaconda3\\lib\\site-packages\\statsmodels\\tsa\\tsatools.py:142: FutureWarning: In a future version of pandas all arguments of concat except for the argument 'objs' will be keyword-only.\n",
      "  x = pd.concat(x[::order], 1)\n",
      "c:\\Users\\Ashimory\\anaconda3\\lib\\site-packages\\statsmodels\\tsa\\tsatools.py:142: FutureWarning: In a future version of pandas all arguments of concat except for the argument 'objs' will be keyword-only.\n",
      "  x = pd.concat(x[::order], 1)\n",
      "c:\\Users\\Ashimory\\anaconda3\\lib\\site-packages\\statsmodels\\tsa\\tsatools.py:142: FutureWarning: In a future version of pandas all arguments of concat except for the argument 'objs' will be keyword-only.\n",
      "  x = pd.concat(x[::order], 1)\n",
      "c:\\Users\\Ashimory\\anaconda3\\lib\\site-packages\\statsmodels\\tsa\\tsatools.py:142: FutureWarning: In a future version of pandas all arguments of concat except for the argument 'objs' will be keyword-only.\n",
      "  x = pd.concat(x[::order], 1)\n",
      "c:\\Users\\Ashimory\\anaconda3\\lib\\site-packages\\statsmodels\\tsa\\tsatools.py:142: FutureWarning: In a future version of pandas all arguments of concat except for the argument 'objs' will be keyword-only.\n",
      "  x = pd.concat(x[::order], 1)\n",
      "c:\\Users\\Ashimory\\anaconda3\\lib\\site-packages\\statsmodels\\tsa\\tsatools.py:142: FutureWarning: In a future version of pandas all arguments of concat except for the argument 'objs' will be keyword-only.\n",
      "  x = pd.concat(x[::order], 1)\n"
     ]
    },
    {
     "name": "stdout",
     "output_type": "stream",
     "text": [
      "MSE: 16.225022057349094\n",
      "Removed ft:  new_tests_smoothed_per_thousand\n",
      "Ft in use: ['life_expectancy', 'aged_65_older', 'male_smokers', 'North America', 'aged_70_older', 'tests_per_case', 'extreme_poverty', 'stringency_index', 'positive_rate', 'people_vaccinated_per_hundred', 'population_density', 'handwashing_facilities', 'Europe', 'South America', 'cardiovasc_death_rate', 'people_fully_vaccinated_per_hundred', 'diabetes_prevalence', 'Unnamed: 0', 'human_development_index', 'hospital_beds_per_thousand', 'Africa', 'total_boosters_per_hundred', 'gdp_per_capita', 'median_age', 'Asia', 'Oceania', 'female_smokers']\n",
      "********************\n",
      "MSE: 16.22561318090926\n",
      "Removed ft:  life_expectancy\n",
      "Ft in use: ['aged_65_older', 'male_smokers', 'North America', 'aged_70_older', 'tests_per_case', 'extreme_poverty', 'stringency_index', 'positive_rate', 'people_vaccinated_per_hundred', 'population_density', 'handwashing_facilities', 'Europe', 'South America', 'cardiovasc_death_rate', 'people_fully_vaccinated_per_hundred', 'diabetes_prevalence', 'Unnamed: 0', 'human_development_index', 'hospital_beds_per_thousand', 'Africa', 'total_boosters_per_hundred', 'gdp_per_capita', 'median_age', 'Asia', 'Oceania', 'female_smokers']\n",
      "********************\n",
      "MSE: 16.226192703503738\n",
      "Removed ft:  aged_65_older\n",
      "Ft in use: ['male_smokers', 'North America', 'aged_70_older', 'tests_per_case', 'extreme_poverty', 'stringency_index', 'positive_rate', 'people_vaccinated_per_hundred', 'population_density', 'handwashing_facilities', 'Europe', 'South America', 'cardiovasc_death_rate', 'people_fully_vaccinated_per_hundred', 'diabetes_prevalence', 'Unnamed: 0', 'human_development_index', 'hospital_beds_per_thousand', 'Africa', 'total_boosters_per_hundred', 'gdp_per_capita', 'median_age', 'Asia', 'Oceania', 'female_smokers']\n",
      "********************\n",
      "MSE: 16.227140756274206\n",
      "Removed ft:  male_smokers\n",
      "Ft in use: ['North America', 'aged_70_older', 'tests_per_case', 'extreme_poverty', 'stringency_index', 'positive_rate', 'people_vaccinated_per_hundred', 'population_density', 'handwashing_facilities', 'Europe', 'South America', 'cardiovasc_death_rate', 'people_fully_vaccinated_per_hundred', 'diabetes_prevalence', 'Unnamed: 0', 'human_development_index', 'hospital_beds_per_thousand', 'Africa', 'total_boosters_per_hundred', 'gdp_per_capita', 'median_age', 'Asia', 'Oceania', 'female_smokers']\n",
      "********************\n",
      "MSE: 16.227140756274164\n",
      "Removed ft:  North America\n",
      "Ft in use: ['aged_70_older', 'tests_per_case', 'extreme_poverty', 'stringency_index', 'positive_rate', 'people_vaccinated_per_hundred', 'population_density', 'handwashing_facilities', 'Europe', 'South America', 'cardiovasc_death_rate', 'people_fully_vaccinated_per_hundred', 'diabetes_prevalence', 'Unnamed: 0', 'human_development_index', 'hospital_beds_per_thousand', 'Africa', 'total_boosters_per_hundred', 'gdp_per_capita', 'median_age', 'Asia', 'Oceania', 'female_smokers']\n",
      "********************\n",
      "MSE: 16.227321356509616\n",
      "Removed ft:  aged_70_older\n",
      "Ft in use: ['tests_per_case', 'extreme_poverty', 'stringency_index', 'positive_rate', 'people_vaccinated_per_hundred', 'population_density', 'handwashing_facilities', 'Europe', 'South America', 'cardiovasc_death_rate', 'people_fully_vaccinated_per_hundred', 'diabetes_prevalence', 'Unnamed: 0', 'human_development_index', 'hospital_beds_per_thousand', 'Africa', 'total_boosters_per_hundred', 'gdp_per_capita', 'median_age', 'Asia', 'Oceania', 'female_smokers']\n",
      "********************\n",
      "MSE: 16.22857490407404\n",
      "Removed ft:  tests_per_case\n",
      "Ft in use: ['extreme_poverty', 'stringency_index', 'positive_rate', 'people_vaccinated_per_hundred', 'population_density', 'handwashing_facilities', 'Europe', 'South America', 'cardiovasc_death_rate', 'people_fully_vaccinated_per_hundred', 'diabetes_prevalence', 'Unnamed: 0', 'human_development_index', 'hospital_beds_per_thousand', 'Africa', 'total_boosters_per_hundred', 'gdp_per_capita', 'median_age', 'Asia', 'Oceania', 'female_smokers']\n",
      "********************\n"
     ]
    },
    {
     "name": "stderr",
     "output_type": "stream",
     "text": [
      "c:\\Users\\Ashimory\\anaconda3\\lib\\site-packages\\statsmodels\\tsa\\tsatools.py:142: FutureWarning: In a future version of pandas all arguments of concat except for the argument 'objs' will be keyword-only.\n",
      "  x = pd.concat(x[::order], 1)\n",
      "c:\\Users\\Ashimory\\anaconda3\\lib\\site-packages\\statsmodels\\tsa\\tsatools.py:142: FutureWarning: In a future version of pandas all arguments of concat except for the argument 'objs' will be keyword-only.\n",
      "  x = pd.concat(x[::order], 1)\n"
     ]
    },
    {
     "name": "stdout",
     "output_type": "stream",
     "text": [
      "MSE: 16.230248734484757\n",
      "Removed ft:  extreme_poverty\n",
      "Ft in use: ['stringency_index', 'positive_rate', 'people_vaccinated_per_hundred', 'population_density', 'handwashing_facilities', 'Europe', 'South America', 'cardiovasc_death_rate', 'people_fully_vaccinated_per_hundred', 'diabetes_prevalence', 'Unnamed: 0', 'human_development_index', 'hospital_beds_per_thousand', 'Africa', 'total_boosters_per_hundred', 'gdp_per_capita', 'median_age', 'Asia', 'Oceania', 'female_smokers']\n",
      "********************\n",
      "MSE: 16.232275050888603\n",
      "Removed ft:  stringency_index\n",
      "Ft in use: ['positive_rate', 'people_vaccinated_per_hundred', 'population_density', 'handwashing_facilities', 'Europe', 'South America', 'cardiovasc_death_rate', 'people_fully_vaccinated_per_hundred', 'diabetes_prevalence', 'Unnamed: 0', 'human_development_index', 'hospital_beds_per_thousand', 'Africa', 'total_boosters_per_hundred', 'gdp_per_capita', 'median_age', 'Asia', 'Oceania', 'female_smokers']\n",
      "********************\n",
      "MSE: 16.2380250917116\n",
      "Removed ft:  positive_rate\n",
      "Ft in use: ['people_vaccinated_per_hundred', 'population_density', 'handwashing_facilities', 'Europe', 'South America', 'cardiovasc_death_rate', 'people_fully_vaccinated_per_hundred', 'diabetes_prevalence', 'Unnamed: 0', 'human_development_index', 'hospital_beds_per_thousand', 'Africa', 'total_boosters_per_hundred', 'gdp_per_capita', 'median_age', 'Asia', 'Oceania', 'female_smokers']\n",
      "********************\n",
      "MSE: 16.243262733433106\n",
      "Removed ft:  people_vaccinated_per_hundred\n",
      "Ft in use: ['population_density', 'handwashing_facilities', 'Europe', 'South America', 'cardiovasc_death_rate', 'people_fully_vaccinated_per_hundred', 'diabetes_prevalence', 'Unnamed: 0', 'human_development_index', 'hospital_beds_per_thousand', 'Africa', 'total_boosters_per_hundred', 'gdp_per_capita', 'median_age', 'Asia', 'Oceania', 'female_smokers']\n",
      "********************\n",
      "MSE: 16.249165220348438\n",
      "Removed ft:  population_density\n",
      "Ft in use: ['handwashing_facilities', 'Europe', 'South America', 'cardiovasc_death_rate', 'people_fully_vaccinated_per_hundred', 'diabetes_prevalence', 'Unnamed: 0', 'human_development_index', 'hospital_beds_per_thousand', 'Africa', 'total_boosters_per_hundred', 'gdp_per_capita', 'median_age', 'Asia', 'Oceania', 'female_smokers']\n",
      "********************\n",
      "MSE: 16.260733388027827\n",
      "Removed ft:  handwashing_facilities\n",
      "Ft in use: ['Europe', 'South America', 'cardiovasc_death_rate', 'people_fully_vaccinated_per_hundred', 'diabetes_prevalence', 'Unnamed: 0', 'human_development_index', 'hospital_beds_per_thousand', 'Africa', 'total_boosters_per_hundred', 'gdp_per_capita', 'median_age', 'Asia', 'Oceania', 'female_smokers']\n",
      "********************\n",
      "MSE: 16.265273757446064\n",
      "Removed ft:  Europe\n",
      "Ft in use: ['South America', 'cardiovasc_death_rate', 'people_fully_vaccinated_per_hundred', 'diabetes_prevalence', 'Unnamed: 0', 'human_development_index', 'hospital_beds_per_thousand', 'Africa', 'total_boosters_per_hundred', 'gdp_per_capita', 'median_age', 'Asia', 'Oceania', 'female_smokers']\n",
      "********************\n",
      "MSE: 16.297687949437144\n",
      "Removed ft:  South America\n",
      "Ft in use: ['cardiovasc_death_rate', 'people_fully_vaccinated_per_hundred', 'diabetes_prevalence', 'Unnamed: 0', 'human_development_index', 'hospital_beds_per_thousand', 'Africa', 'total_boosters_per_hundred', 'gdp_per_capita', 'median_age', 'Asia', 'Oceania', 'female_smokers']\n",
      "********************\n",
      "MSE: 16.313314345984264\n",
      "Removed ft:  cardiovasc_death_rate\n",
      "Ft in use: ['people_fully_vaccinated_per_hundred', 'diabetes_prevalence', 'Unnamed: 0', 'human_development_index', 'hospital_beds_per_thousand', 'Africa', 'total_boosters_per_hundred', 'gdp_per_capita', 'median_age', 'Asia', 'Oceania', 'female_smokers']\n",
      "********************\n",
      "MSE: 16.434294929409575\n",
      "Removed ft:  people_fully_vaccinated_per_hundred\n",
      "Ft in use: ['diabetes_prevalence', 'Unnamed: 0', 'human_development_index', 'hospital_beds_per_thousand', 'Africa', 'total_boosters_per_hundred', 'gdp_per_capita', 'median_age', 'Asia', 'Oceania', 'female_smokers']\n"
     ]
    },
    {
     "name": "stderr",
     "output_type": "stream",
     "text": [
      "c:\\Users\\Ashimory\\anaconda3\\lib\\site-packages\\statsmodels\\tsa\\tsatools.py:142: FutureWarning: In a future version of pandas all arguments of concat except for the argument 'objs' will be keyword-only.\n",
      "  x = pd.concat(x[::order], 1)\n",
      "c:\\Users\\Ashimory\\anaconda3\\lib\\site-packages\\statsmodels\\tsa\\tsatools.py:142: FutureWarning: In a future version of pandas all arguments of concat except for the argument 'objs' will be keyword-only.\n",
      "  x = pd.concat(x[::order], 1)\n",
      "c:\\Users\\Ashimory\\anaconda3\\lib\\site-packages\\statsmodels\\tsa\\tsatools.py:142: FutureWarning: In a future version of pandas all arguments of concat except for the argument 'objs' will be keyword-only.\n",
      "  x = pd.concat(x[::order], 1)\n",
      "c:\\Users\\Ashimory\\anaconda3\\lib\\site-packages\\statsmodels\\tsa\\tsatools.py:142: FutureWarning: In a future version of pandas all arguments of concat except for the argument 'objs' will be keyword-only.\n",
      "  x = pd.concat(x[::order], 1)\n",
      "c:\\Users\\Ashimory\\anaconda3\\lib\\site-packages\\statsmodels\\tsa\\tsatools.py:142: FutureWarning: In a future version of pandas all arguments of concat except for the argument 'objs' will be keyword-only.\n",
      "  x = pd.concat(x[::order], 1)\n",
      "c:\\Users\\Ashimory\\anaconda3\\lib\\site-packages\\statsmodels\\tsa\\tsatools.py:142: FutureWarning: In a future version of pandas all arguments of concat except for the argument 'objs' will be keyword-only.\n",
      "  x = pd.concat(x[::order], 1)\n",
      "c:\\Users\\Ashimory\\anaconda3\\lib\\site-packages\\statsmodels\\tsa\\tsatools.py:142: FutureWarning: In a future version of pandas all arguments of concat except for the argument 'objs' will be keyword-only.\n",
      "  x = pd.concat(x[::order], 1)\n",
      "c:\\Users\\Ashimory\\anaconda3\\lib\\site-packages\\statsmodels\\tsa\\tsatools.py:142: FutureWarning: In a future version of pandas all arguments of concat except for the argument 'objs' will be keyword-only.\n",
      "  x = pd.concat(x[::order], 1)\n",
      "c:\\Users\\Ashimory\\anaconda3\\lib\\site-packages\\statsmodels\\tsa\\tsatools.py:142: FutureWarning: In a future version of pandas all arguments of concat except for the argument 'objs' will be keyword-only.\n",
      "  x = pd.concat(x[::order], 1)\n",
      "c:\\Users\\Ashimory\\anaconda3\\lib\\site-packages\\statsmodels\\tsa\\tsatools.py:142: FutureWarning: In a future version of pandas all arguments of concat except for the argument 'objs' will be keyword-only.\n",
      "  x = pd.concat(x[::order], 1)\n",
      "c:\\Users\\Ashimory\\anaconda3\\lib\\site-packages\\statsmodels\\tsa\\tsatools.py:142: FutureWarning: In a future version of pandas all arguments of concat except for the argument 'objs' will be keyword-only.\n",
      "  x = pd.concat(x[::order], 1)\n",
      "c:\\Users\\Ashimory\\anaconda3\\lib\\site-packages\\statsmodels\\tsa\\tsatools.py:142: FutureWarning: In a future version of pandas all arguments of concat except for the argument 'objs' will be keyword-only.\n",
      "  x = pd.concat(x[::order], 1)\n",
      "c:\\Users\\Ashimory\\anaconda3\\lib\\site-packages\\statsmodels\\tsa\\tsatools.py:142: FutureWarning: In a future version of pandas all arguments of concat except for the argument 'objs' will be keyword-only.\n",
      "  x = pd.concat(x[::order], 1)\n",
      "c:\\Users\\Ashimory\\anaconda3\\lib\\site-packages\\statsmodels\\tsa\\tsatools.py:142: FutureWarning: In a future version of pandas all arguments of concat except for the argument 'objs' will be keyword-only.\n",
      "  x = pd.concat(x[::order], 1)\n",
      "c:\\Users\\Ashimory\\anaconda3\\lib\\site-packages\\statsmodels\\tsa\\tsatools.py:142: FutureWarning: In a future version of pandas all arguments of concat except for the argument 'objs' will be keyword-only.\n",
      "  x = pd.concat(x[::order], 1)\n",
      "c:\\Users\\Ashimory\\anaconda3\\lib\\site-packages\\statsmodels\\tsa\\tsatools.py:142: FutureWarning: In a future version of pandas all arguments of concat except for the argument 'objs' will be keyword-only.\n",
      "  x = pd.concat(x[::order], 1)\n",
      "c:\\Users\\Ashimory\\anaconda3\\lib\\site-packages\\statsmodels\\tsa\\tsatools.py:142: FutureWarning: In a future version of pandas all arguments of concat except for the argument 'objs' will be keyword-only.\n",
      "  x = pd.concat(x[::order], 1)\n",
      "c:\\Users\\Ashimory\\anaconda3\\lib\\site-packages\\statsmodels\\tsa\\tsatools.py:142: FutureWarning: In a future version of pandas all arguments of concat except for the argument 'objs' will be keyword-only.\n",
      "  x = pd.concat(x[::order], 1)\n"
     ]
    },
    {
     "name": "stdout",
     "output_type": "stream",
     "text": [
      "********************\n",
      "MSE: 16.478123304850975\n",
      "Removed ft:  diabetes_prevalence\n",
      "Ft in use: ['Unnamed: 0', 'human_development_index', 'hospital_beds_per_thousand', 'Africa', 'total_boosters_per_hundred', 'gdp_per_capita', 'median_age', 'Asia', 'Oceania', 'female_smokers']\n",
      "********************\n"
     ]
    },
    {
     "name": "stderr",
     "output_type": "stream",
     "text": [
      "c:\\Users\\Ashimory\\anaconda3\\lib\\site-packages\\statsmodels\\tsa\\tsatools.py:142: FutureWarning: In a future version of pandas all arguments of concat except for the argument 'objs' will be keyword-only.\n",
      "  x = pd.concat(x[::order], 1)\n",
      "c:\\Users\\Ashimory\\anaconda3\\lib\\site-packages\\statsmodels\\tsa\\tsatools.py:142: FutureWarning: In a future version of pandas all arguments of concat except for the argument 'objs' will be keyword-only.\n",
      "  x = pd.concat(x[::order], 1)\n",
      "c:\\Users\\Ashimory\\anaconda3\\lib\\site-packages\\statsmodels\\tsa\\tsatools.py:142: FutureWarning: In a future version of pandas all arguments of concat except for the argument 'objs' will be keyword-only.\n",
      "  x = pd.concat(x[::order], 1)\n"
     ]
    },
    {
     "name": "stdout",
     "output_type": "stream",
     "text": [
      "MSE: 16.518462483610378\n",
      "Removed ft:  Unnamed: 0\n",
      "Ft in use: ['human_development_index', 'hospital_beds_per_thousand', 'Africa', 'total_boosters_per_hundred', 'gdp_per_capita', 'median_age', 'Asia', 'Oceania', 'female_smokers']\n",
      "********************\n",
      "MSE: 16.561663521092512\n",
      "Removed ft:  human_development_index\n",
      "Ft in use: ['hospital_beds_per_thousand', 'Africa', 'total_boosters_per_hundred', 'gdp_per_capita', 'median_age', 'Asia', 'Oceania', 'female_smokers']\n",
      "********************\n",
      "MSE: 16.590356933467188\n",
      "Removed ft:  hospital_beds_per_thousand\n",
      "Ft in use: ['Africa', 'total_boosters_per_hundred', 'gdp_per_capita', 'median_age', 'Asia', 'Oceania', 'female_smokers']\n",
      "********************\n",
      "MSE: 16.983516501432003\n",
      "Removed ft:  Africa\n",
      "Ft in use: ['total_boosters_per_hundred', 'gdp_per_capita', 'median_age', 'Asia', 'Oceania', 'female_smokers']\n",
      "Break due to stopping rule: max pvalue = 0.025519317089049687 < 0.05\n"
     ]
    },
    {
     "name": "stderr",
     "output_type": "stream",
     "text": [
      "c:\\Users\\Ashimory\\anaconda3\\lib\\site-packages\\statsmodels\\tsa\\tsatools.py:142: FutureWarning: In a future version of pandas all arguments of concat except for the argument 'objs' will be keyword-only.\n",
      "  x = pd.concat(x[::order], 1)\n",
      "c:\\Users\\Ashimory\\anaconda3\\lib\\site-packages\\statsmodels\\tsa\\tsatools.py:142: FutureWarning: In a future version of pandas all arguments of concat except for the argument 'objs' will be keyword-only.\n",
      "  x = pd.concat(x[::order], 1)\n",
      "c:\\Users\\Ashimory\\anaconda3\\lib\\site-packages\\statsmodels\\tsa\\tsatools.py:142: FutureWarning: In a future version of pandas all arguments of concat except for the argument 'objs' will be keyword-only.\n",
      "  x = pd.concat(x[::order], 1)\n",
      "c:\\Users\\Ashimory\\anaconda3\\lib\\site-packages\\statsmodels\\tsa\\tsatools.py:142: FutureWarning: In a future version of pandas all arguments of concat except for the argument 'objs' will be keyword-only.\n",
      "  x = pd.concat(x[::order], 1)\n",
      "c:\\Users\\Ashimory\\anaconda3\\lib\\site-packages\\statsmodels\\tsa\\tsatools.py:142: FutureWarning: In a future version of pandas all arguments of concat except for the argument 'objs' will be keyword-only.\n",
      "  x = pd.concat(x[::order], 1)\n"
     ]
    }
   ],
   "source": [
    "# stepwise backward regression\n",
    "backward_reg('New deaths per million model:', deaths_ft, new_deaths_per_million)"
   ]
  },
  {
   "cell_type": "code",
   "execution_count": null,
   "metadata": {},
   "outputs": [
    {
     "name": "stdout",
     "output_type": "stream",
     "text": [
      "New cases per million model:\n"
     ]
    },
    {
     "name": "stderr",
     "output_type": "stream",
     "text": [
      "c:\\Users\\Ashimory\\anaconda3\\lib\\site-packages\\statsmodels\\tsa\\tsatools.py:142: FutureWarning: In a future version of pandas all arguments of concat except for the argument 'objs' will be keyword-only.\n",
      "  x = pd.concat(x[::order], 1)\n",
      "c:\\Users\\Ashimory\\anaconda3\\lib\\site-packages\\statsmodels\\tsa\\tsatools.py:142: FutureWarning: In a future version of pandas all arguments of concat except for the argument 'objs' will be keyword-only.\n",
      "  x = pd.concat(x[::order], 1)\n"
     ]
    },
    {
     "name": "stdout",
     "output_type": "stream",
     "text": [
      "MSE: 2299560.511172696\n",
      "Removed ft:  gdp_per_capita\n",
      "Ft in use: ['stringency_index', 'people_fully_vaccinated_per_hundred', 'people_vaccinated_per_hundred', 'extreme_poverty', 'handwashing_facilities', 'cardiovasc_death_rate', 'female_smokers', 'aged_65_older', 'North America', 'male_smokers', 'Asia', 'Unnamed: 0', 'Europe', 'life_expectancy', 'tests_per_case', 'population_density', 'Oceania', 'South America', 'median_age', 'Africa', 'aged_70_older', 'hospital_beds_per_thousand', 'diabetes_prevalence', 'human_development_index', 'total_boosters_per_hundred', 'new_tests_smoothed_per_thousand', 'positive_rate']\n"
     ]
    },
    {
     "name": "stderr",
     "output_type": "stream",
     "text": [
      "c:\\Users\\Ashimory\\anaconda3\\lib\\site-packages\\statsmodels\\tsa\\tsatools.py:142: FutureWarning: In a future version of pandas all arguments of concat except for the argument 'objs' will be keyword-only.\n",
      "  x = pd.concat(x[::order], 1)\n",
      "c:\\Users\\Ashimory\\anaconda3\\lib\\site-packages\\statsmodels\\tsa\\tsatools.py:142: FutureWarning: In a future version of pandas all arguments of concat except for the argument 'objs' will be keyword-only.\n",
      "  x = pd.concat(x[::order], 1)\n"
     ]
    },
    {
     "name": "stdout",
     "output_type": "stream",
     "text": [
      "********************\n",
      "MSE: 2299572.82211377\n",
      "Removed ft:  stringency_index\n",
      "Ft in use: ['people_fully_vaccinated_per_hundred', 'people_vaccinated_per_hundred', 'extreme_poverty', 'handwashing_facilities', 'cardiovasc_death_rate', 'female_smokers', 'aged_65_older', 'North America', 'male_smokers', 'Asia', 'Unnamed: 0', 'Europe', 'life_expectancy', 'tests_per_case', 'population_density', 'Oceania', 'South America', 'median_age', 'Africa', 'aged_70_older', 'hospital_beds_per_thousand', 'diabetes_prevalence', 'human_development_index', 'total_boosters_per_hundred', 'new_tests_smoothed_per_thousand', 'positive_rate']\n",
      "********************\n",
      "MSE: 2299633.770301968\n",
      "Removed ft:  people_fully_vaccinated_per_hundred\n",
      "Ft in use: ['people_vaccinated_per_hundred', 'extreme_poverty', 'handwashing_facilities', 'cardiovasc_death_rate', 'female_smokers', 'aged_65_older', 'North America', 'male_smokers', 'Asia', 'Unnamed: 0', 'Europe', 'life_expectancy', 'tests_per_case', 'population_density', 'Oceania', 'South America', 'median_age', 'Africa', 'aged_70_older', 'hospital_beds_per_thousand', 'diabetes_prevalence', 'human_development_index', 'total_boosters_per_hundred', 'new_tests_smoothed_per_thousand', 'positive_rate']\n",
      "********************\n",
      "MSE: 2299713.517629885\n",
      "Removed ft:  people_vaccinated_per_hundred\n",
      "Ft in use: ['extreme_poverty', 'handwashing_facilities', 'cardiovasc_death_rate', 'female_smokers', 'aged_65_older', 'North America', 'male_smokers', 'Asia', 'Unnamed: 0', 'Europe', 'life_expectancy', 'tests_per_case', 'population_density', 'Oceania', 'South America', 'median_age', 'Africa', 'aged_70_older', 'hospital_beds_per_thousand', 'diabetes_prevalence', 'human_development_index', 'total_boosters_per_hundred', 'new_tests_smoothed_per_thousand', 'positive_rate']\n",
      "********************\n",
      "MSE: 2299986.4673581724\n",
      "Removed ft:  extreme_poverty\n",
      "Ft in use: ['handwashing_facilities', 'cardiovasc_death_rate', 'female_smokers', 'aged_65_older', 'North America', 'male_smokers', 'Asia', 'Unnamed: 0', 'Europe', 'life_expectancy', 'tests_per_case', 'population_density', 'Oceania', 'South America', 'median_age', 'Africa', 'aged_70_older', 'hospital_beds_per_thousand', 'diabetes_prevalence', 'human_development_index', 'total_boosters_per_hundred', 'new_tests_smoothed_per_thousand', 'positive_rate']\n",
      "********************\n",
      "MSE: 2300812.0249436065\n",
      "Removed ft:  handwashing_facilities\n",
      "Ft in use: ['cardiovasc_death_rate', 'female_smokers', 'aged_65_older', 'North America', 'male_smokers', 'Asia', 'Unnamed: 0', 'Europe', 'life_expectancy', 'tests_per_case', 'population_density', 'Oceania', 'South America', 'median_age', 'Africa', 'aged_70_older', 'hospital_beds_per_thousand', 'diabetes_prevalence', 'human_development_index', 'total_boosters_per_hundred', 'new_tests_smoothed_per_thousand', 'positive_rate']\n",
      "********************\n"
     ]
    },
    {
     "name": "stderr",
     "output_type": "stream",
     "text": [
      "c:\\Users\\Ashimory\\anaconda3\\lib\\site-packages\\statsmodels\\tsa\\tsatools.py:142: FutureWarning: In a future version of pandas all arguments of concat except for the argument 'objs' will be keyword-only.\n",
      "  x = pd.concat(x[::order], 1)\n",
      "c:\\Users\\Ashimory\\anaconda3\\lib\\site-packages\\statsmodels\\tsa\\tsatools.py:142: FutureWarning: In a future version of pandas all arguments of concat except for the argument 'objs' will be keyword-only.\n",
      "  x = pd.concat(x[::order], 1)\n",
      "c:\\Users\\Ashimory\\anaconda3\\lib\\site-packages\\statsmodels\\tsa\\tsatools.py:142: FutureWarning: In a future version of pandas all arguments of concat except for the argument 'objs' will be keyword-only.\n",
      "  x = pd.concat(x[::order], 1)\n",
      "c:\\Users\\Ashimory\\anaconda3\\lib\\site-packages\\statsmodels\\tsa\\tsatools.py:142: FutureWarning: In a future version of pandas all arguments of concat except for the argument 'objs' will be keyword-only.\n",
      "  x = pd.concat(x[::order], 1)\n",
      "c:\\Users\\Ashimory\\anaconda3\\lib\\site-packages\\statsmodels\\tsa\\tsatools.py:142: FutureWarning: In a future version of pandas all arguments of concat except for the argument 'objs' will be keyword-only.\n",
      "  x = pd.concat(x[::order], 1)\n",
      "c:\\Users\\Ashimory\\anaconda3\\lib\\site-packages\\statsmodels\\tsa\\tsatools.py:142: FutureWarning: In a future version of pandas all arguments of concat except for the argument 'objs' will be keyword-only.\n",
      "  x = pd.concat(x[::order], 1)\n",
      "c:\\Users\\Ashimory\\anaconda3\\lib\\site-packages\\statsmodels\\tsa\\tsatools.py:142: FutureWarning: In a future version of pandas all arguments of concat except for the argument 'objs' will be keyword-only.\n",
      "  x = pd.concat(x[::order], 1)\n",
      "c:\\Users\\Ashimory\\anaconda3\\lib\\site-packages\\statsmodels\\tsa\\tsatools.py:142: FutureWarning: In a future version of pandas all arguments of concat except for the argument 'objs' will be keyword-only.\n",
      "  x = pd.concat(x[::order], 1)\n",
      "c:\\Users\\Ashimory\\anaconda3\\lib\\site-packages\\statsmodels\\tsa\\tsatools.py:142: FutureWarning: In a future version of pandas all arguments of concat except for the argument 'objs' will be keyword-only.\n",
      "  x = pd.concat(x[::order], 1)\n",
      "c:\\Users\\Ashimory\\anaconda3\\lib\\site-packages\\statsmodels\\tsa\\tsatools.py:142: FutureWarning: In a future version of pandas all arguments of concat except for the argument 'objs' will be keyword-only.\n",
      "  x = pd.concat(x[::order], 1)\n"
     ]
    },
    {
     "name": "stdout",
     "output_type": "stream",
     "text": [
      "MSE: 2301779.422048805\n",
      "Removed ft:  cardiovasc_death_rate\n",
      "Ft in use: ['female_smokers', 'aged_65_older', 'North America', 'male_smokers', 'Asia', 'Unnamed: 0', 'Europe', 'life_expectancy', 'tests_per_case', 'population_density', 'Oceania', 'South America', 'median_age', 'Africa', 'aged_70_older', 'hospital_beds_per_thousand', 'diabetes_prevalence', 'human_development_index', 'total_boosters_per_hundred', 'new_tests_smoothed_per_thousand', 'positive_rate']\n",
      "********************\n",
      "MSE: 2302872.2821137696\n",
      "Removed ft:  female_smokers\n",
      "Ft in use: ['aged_65_older', 'North America', 'male_smokers', 'Asia', 'Unnamed: 0', 'Europe', 'life_expectancy', 'tests_per_case', 'population_density', 'Oceania', 'South America', 'median_age', 'Africa', 'aged_70_older', 'hospital_beds_per_thousand', 'diabetes_prevalence', 'human_development_index', 'total_boosters_per_hundred', 'new_tests_smoothed_per_thousand', 'positive_rate']\n",
      "********************\n"
     ]
    },
    {
     "name": "stderr",
     "output_type": "stream",
     "text": [
      "c:\\Users\\Ashimory\\anaconda3\\lib\\site-packages\\statsmodels\\tsa\\tsatools.py:142: FutureWarning: In a future version of pandas all arguments of concat except for the argument 'objs' will be keyword-only.\n",
      "  x = pd.concat(x[::order], 1)\n",
      "c:\\Users\\Ashimory\\anaconda3\\lib\\site-packages\\statsmodels\\tsa\\tsatools.py:142: FutureWarning: In a future version of pandas all arguments of concat except for the argument 'objs' will be keyword-only.\n",
      "  x = pd.concat(x[::order], 1)\n",
      "c:\\Users\\Ashimory\\anaconda3\\lib\\site-packages\\statsmodels\\tsa\\tsatools.py:142: FutureWarning: In a future version of pandas all arguments of concat except for the argument 'objs' will be keyword-only.\n",
      "  x = pd.concat(x[::order], 1)\n",
      "c:\\Users\\Ashimory\\anaconda3\\lib\\site-packages\\statsmodels\\tsa\\tsatools.py:142: FutureWarning: In a future version of pandas all arguments of concat except for the argument 'objs' will be keyword-only.\n",
      "  x = pd.concat(x[::order], 1)\n",
      "c:\\Users\\Ashimory\\anaconda3\\lib\\site-packages\\statsmodels\\tsa\\tsatools.py:142: FutureWarning: In a future version of pandas all arguments of concat except for the argument 'objs' will be keyword-only.\n",
      "  x = pd.concat(x[::order], 1)\n",
      "c:\\Users\\Ashimory\\anaconda3\\lib\\site-packages\\statsmodels\\tsa\\tsatools.py:142: FutureWarning: In a future version of pandas all arguments of concat except for the argument 'objs' will be keyword-only.\n",
      "  x = pd.concat(x[::order], 1)\n"
     ]
    },
    {
     "name": "stdout",
     "output_type": "stream",
     "text": [
      "MSE: 2303746.64818874\n",
      "Removed ft:  aged_65_older\n",
      "Ft in use: ['North America', 'male_smokers', 'Asia', 'Unnamed: 0', 'Europe', 'life_expectancy', 'tests_per_case', 'population_density', 'Oceania', 'South America', 'median_age', 'Africa', 'aged_70_older', 'hospital_beds_per_thousand', 'diabetes_prevalence', 'human_development_index', 'total_boosters_per_hundred', 'new_tests_smoothed_per_thousand', 'positive_rate']\n",
      "********************\n",
      "MSE: 2303746.6481887316\n",
      "Removed ft:  North America\n",
      "Ft in use: ['male_smokers', 'Asia', 'Unnamed: 0', 'Europe', 'life_expectancy', 'tests_per_case', 'population_density', 'Oceania', 'South America', 'median_age', 'Africa', 'aged_70_older', 'hospital_beds_per_thousand', 'diabetes_prevalence', 'human_development_index', 'total_boosters_per_hundred', 'new_tests_smoothed_per_thousand', 'positive_rate']\n",
      "********************\n",
      "MSE: 2305253.4934028126\n",
      "Removed ft:  male_smokers\n",
      "Ft in use: ['Asia', 'Unnamed: 0', 'Europe', 'life_expectancy', 'tests_per_case', 'population_density', 'Oceania', 'South America', 'median_age', 'Africa', 'aged_70_older', 'hospital_beds_per_thousand', 'diabetes_prevalence', 'human_development_index', 'total_boosters_per_hundred', 'new_tests_smoothed_per_thousand', 'positive_rate']\n",
      "********************\n",
      "MSE: 2310875.321706077\n",
      "Removed ft:  Asia\n",
      "Ft in use: ['Unnamed: 0', 'Europe', 'life_expectancy', 'tests_per_case', 'population_density', 'Oceania', 'South America', 'median_age', 'Africa', 'aged_70_older', 'hospital_beds_per_thousand', 'diabetes_prevalence', 'human_development_index', 'total_boosters_per_hundred', 'new_tests_smoothed_per_thousand', 'positive_rate']\n",
      "********************\n",
      "MSE: 2312243.526748708\n",
      "Removed ft:  Unnamed: 0\n",
      "Ft in use: ['Europe', 'life_expectancy', 'tests_per_case', 'population_density', 'Oceania', 'South America', 'median_age', 'Africa', 'aged_70_older', 'hospital_beds_per_thousand', 'diabetes_prevalence', 'human_development_index', 'total_boosters_per_hundred', 'new_tests_smoothed_per_thousand', 'positive_rate']\n",
      "********************\n",
      "MSE: 2314571.5705120093\n",
      "Removed ft:  Europe\n",
      "Ft in use: ['life_expectancy', 'tests_per_case', 'population_density', 'Oceania', 'South America', 'median_age', 'Africa', 'aged_70_older', 'hospital_beds_per_thousand', 'diabetes_prevalence', 'human_development_index', 'total_boosters_per_hundred', 'new_tests_smoothed_per_thousand', 'positive_rate']\n",
      "********************\n",
      "MSE: 2319264.4290173943\n",
      "Removed ft:  life_expectancy\n",
      "Ft in use: ['tests_per_case', 'population_density', 'Oceania', 'South America', 'median_age', 'Africa', 'aged_70_older', 'hospital_beds_per_thousand', 'diabetes_prevalence', 'human_development_index', 'total_boosters_per_hundred', 'new_tests_smoothed_per_thousand', 'positive_rate']\n",
      "********************\n",
      "MSE: 2323862.9987269025\n",
      "Removed ft:  tests_per_case\n",
      "Ft in use: ['population_density', 'Oceania', 'South America', 'median_age', 'Africa', 'aged_70_older', 'hospital_beds_per_thousand', 'diabetes_prevalence', 'human_development_index', 'total_boosters_per_hundred', 'new_tests_smoothed_per_thousand', 'positive_rate']\n",
      "Break due to stopping rule: max pvalue = 0.04069836111273681 < 0.05\n"
     ]
    },
    {
     "name": "stderr",
     "output_type": "stream",
     "text": [
      "c:\\Users\\Ashimory\\anaconda3\\lib\\site-packages\\statsmodels\\tsa\\tsatools.py:142: FutureWarning: In a future version of pandas all arguments of concat except for the argument 'objs' will be keyword-only.\n",
      "  x = pd.concat(x[::order], 1)\n",
      "c:\\Users\\Ashimory\\anaconda3\\lib\\site-packages\\statsmodels\\tsa\\tsatools.py:142: FutureWarning: In a future version of pandas all arguments of concat except for the argument 'objs' will be keyword-only.\n",
      "  x = pd.concat(x[::order], 1)\n",
      "c:\\Users\\Ashimory\\anaconda3\\lib\\site-packages\\statsmodels\\tsa\\tsatools.py:142: FutureWarning: In a future version of pandas all arguments of concat except for the argument 'objs' will be keyword-only.\n",
      "  x = pd.concat(x[::order], 1)\n",
      "c:\\Users\\Ashimory\\anaconda3\\lib\\site-packages\\statsmodels\\tsa\\tsatools.py:142: FutureWarning: In a future version of pandas all arguments of concat except for the argument 'objs' will be keyword-only.\n",
      "  x = pd.concat(x[::order], 1)\n",
      "c:\\Users\\Ashimory\\anaconda3\\lib\\site-packages\\statsmodels\\tsa\\tsatools.py:142: FutureWarning: In a future version of pandas all arguments of concat except for the argument 'objs' will be keyword-only.\n",
      "  x = pd.concat(x[::order], 1)\n",
      "c:\\Users\\Ashimory\\anaconda3\\lib\\site-packages\\statsmodels\\tsa\\tsatools.py:142: FutureWarning: In a future version of pandas all arguments of concat except for the argument 'objs' will be keyword-only.\n",
      "  x = pd.concat(x[::order], 1)\n",
      "c:\\Users\\Ashimory\\anaconda3\\lib\\site-packages\\statsmodels\\tsa\\tsatools.py:142: FutureWarning: In a future version of pandas all arguments of concat except for the argument 'objs' will be keyword-only.\n",
      "  x = pd.concat(x[::order], 1)\n",
      "c:\\Users\\Ashimory\\anaconda3\\lib\\site-packages\\statsmodels\\tsa\\tsatools.py:142: FutureWarning: In a future version of pandas all arguments of concat except for the argument 'objs' will be keyword-only.\n",
      "  x = pd.concat(x[::order], 1)\n",
      "c:\\Users\\Ashimory\\anaconda3\\lib\\site-packages\\statsmodels\\tsa\\tsatools.py:142: FutureWarning: In a future version of pandas all arguments of concat except for the argument 'objs' will be keyword-only.\n",
      "  x = pd.concat(x[::order], 1)\n",
      "c:\\Users\\Ashimory\\anaconda3\\lib\\site-packages\\statsmodels\\tsa\\tsatools.py:142: FutureWarning: In a future version of pandas all arguments of concat except for the argument 'objs' will be keyword-only.\n",
      "  x = pd.concat(x[::order], 1)\n",
      "c:\\Users\\Ashimory\\anaconda3\\lib\\site-packages\\statsmodels\\tsa\\tsatools.py:142: FutureWarning: In a future version of pandas all arguments of concat except for the argument 'objs' will be keyword-only.\n",
      "  x = pd.concat(x[::order], 1)\n",
      "c:\\Users\\Ashimory\\anaconda3\\lib\\site-packages\\statsmodels\\tsa\\tsatools.py:142: FutureWarning: In a future version of pandas all arguments of concat except for the argument 'objs' will be keyword-only.\n",
      "  x = pd.concat(x[::order], 1)\n"
     ]
    }
   ],
   "source": [
    "backward_reg('New cases per million model:', cases_ft, new_cases_per_million)"
   ]
  }
 ],
 "metadata": {
  "interpreter": {
   "hash": "a9856cc17a2c2dbfec4f3261ef1ef6a389c9e7abd9d72b5b069cb1b08caf3806"
  },
  "kernelspec": {
   "display_name": "Python 3.8.12 ('base')",
   "language": "python",
   "name": "python3"
  },
  "language_info": {
   "codemirror_mode": {
    "name": "ipython",
    "version": 3
   },
   "file_extension": ".py",
   "mimetype": "text/x-python",
   "name": "python",
   "nbconvert_exporter": "python",
   "pygments_lexer": "ipython3",
   "version": "3.8.12"
  },
  "orig_nbformat": 4
 },
 "nbformat": 4,
 "nbformat_minor": 2
}
